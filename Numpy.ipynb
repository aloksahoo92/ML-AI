{
  "nbformat": 4,
  "nbformat_minor": 0,
  "metadata": {
    "colab": {
      "name": "Numpy.ipynb",
      "provenance": [],
      "collapsed_sections": []
    },
    "kernelspec": {
      "name": "python3",
      "display_name": "Python 3"
    },
    "language_info": {
      "name": "python"
    }
  },
  "cells": [
    {
      "cell_type": "markdown",
      "metadata": {
        "id": "mkmxS4uECUBc"
      },
      "source": [
        "Numpy"
      ]
    },
    {
      "cell_type": "code",
      "metadata": {
        "id": "wqV2juTwTHzw"
      },
      "source": [
        "!pip install numpy"
      ],
      "execution_count": null,
      "outputs": []
    },
    {
      "cell_type": "markdown",
      "metadata": {
        "id": "8n8w_s5cCfW9"
      },
      "source": [
        "Load in NumPy"
      ]
    },
    {
      "cell_type": "code",
      "metadata": {
        "id": "u63RH0N-ByBz"
      },
      "source": [
        "import numpy as np"
      ],
      "execution_count": 1,
      "outputs": []
    },
    {
      "cell_type": "code",
      "metadata": {
        "id": "pzTlQ4MSTUHx"
      },
      "source": [
        ""
      ],
      "execution_count": null,
      "outputs": []
    },
    {
      "cell_type": "markdown",
      "metadata": {
        "id": "uDSx8bN2CRJo"
      },
      "source": [
        "**Basics Stuff**"
      ]
    },
    {
      "cell_type": "code",
      "metadata": {
        "colab": {
          "base_uri": "https://localhost:8080/"
        },
        "id": "fl1Ll7T5TZyR",
        "outputId": "6ae95988-cd56-4d52-d309-a3e91371fb4c"
      },
      "source": [
        "a=np.array([1,2,3])\n",
        "print(a)"
      ],
      "execution_count": 3,
      "outputs": [
        {
          "output_type": "stream",
          "name": "stdout",
          "text": [
            "[1 2 3]\n"
          ]
        }
      ]
    },
    {
      "cell_type": "code",
      "metadata": {
        "colab": {
          "base_uri": "https://localhost:8080/"
        },
        "id": "wuYQOXUgTh2D",
        "outputId": "c8f51255-07a2-4864-b51b-b4e15eba5c7c"
      },
      "source": [
        "b=np.array([[1,3],[2,6]])\n",
        "b"
      ],
      "execution_count": 4,
      "outputs": [
        {
          "output_type": "execute_result",
          "data": {
            "text/plain": [
              "array([[1, 3],\n",
              "       [2, 6]])"
            ]
          },
          "metadata": {},
          "execution_count": 4
        }
      ]
    },
    {
      "cell_type": "markdown",
      "metadata": {
        "id": "Oips6TYNT761"
      },
      "source": [
        "Dimension"
      ]
    },
    {
      "cell_type": "code",
      "metadata": {
        "colab": {
          "base_uri": "https://localhost:8080/"
        },
        "id": "oLYFGvERT37U",
        "outputId": "92f5dd74-7d6f-4a62-8b38-60779c5b7827"
      },
      "source": [
        "b.ndim"
      ],
      "execution_count": 6,
      "outputs": [
        {
          "output_type": "execute_result",
          "data": {
            "text/plain": [
              "2"
            ]
          },
          "metadata": {},
          "execution_count": 6
        }
      ]
    },
    {
      "cell_type": "markdown",
      "metadata": {
        "id": "DLzhxos_USSu"
      },
      "source": [
        "Shape"
      ]
    },
    {
      "cell_type": "code",
      "metadata": {
        "colab": {
          "base_uri": "https://localhost:8080/"
        },
        "id": "WkifXeRlT33J",
        "outputId": "f912df74-368e-4680-cb71-864d10e2e61a"
      },
      "source": [
        "b.shape"
      ],
      "execution_count": 7,
      "outputs": [
        {
          "output_type": "execute_result",
          "data": {
            "text/plain": [
              "(2, 2)"
            ]
          },
          "metadata": {},
          "execution_count": 7
        }
      ]
    },
    {
      "cell_type": "markdown",
      "metadata": {
        "id": "cP6OzDy6UdoT"
      },
      "source": [
        "Type"
      ]
    },
    {
      "cell_type": "code",
      "metadata": {
        "colab": {
          "base_uri": "https://localhost:8080/"
        },
        "id": "rDuus7f8T3y6",
        "outputId": "c017f9bd-f54f-47a4-d0ad-4a663b79ca8e"
      },
      "source": [
        "b.dtype"
      ],
      "execution_count": 8,
      "outputs": [
        {
          "output_type": "execute_result",
          "data": {
            "text/plain": [
              "dtype('int64')"
            ]
          },
          "metadata": {},
          "execution_count": 8
        }
      ]
    },
    {
      "cell_type": "markdown",
      "metadata": {
        "id": "TSYO8hPDUubw"
      },
      "source": [
        "Size in bytes"
      ]
    },
    {
      "cell_type": "code",
      "metadata": {
        "colab": {
          "base_uri": "https://localhost:8080/"
        },
        "id": "pByF8fnGT3ug",
        "outputId": "c195754e-2ee2-49af-838a-adf3a86e23aa"
      },
      "source": [
        "b.itemsize"
      ],
      "execution_count": 9,
      "outputs": [
        {
          "output_type": "execute_result",
          "data": {
            "text/plain": [
              "8"
            ]
          },
          "metadata": {},
          "execution_count": 9
        }
      ]
    },
    {
      "cell_type": "markdown",
      "metadata": {
        "id": "o8E3pZjaU53P"
      },
      "source": [
        "Total size"
      ]
    },
    {
      "cell_type": "code",
      "metadata": {
        "colab": {
          "base_uri": "https://localhost:8080/"
        },
        "id": "zulte3J7T3qA",
        "outputId": "aba4fcdf-9641-407b-f755-2854173ee41a"
      },
      "source": [
        "b.nbytes"
      ],
      "execution_count": 10,
      "outputs": [
        {
          "output_type": "execute_result",
          "data": {
            "text/plain": [
              "32"
            ]
          },
          "metadata": {},
          "execution_count": 10
        }
      ]
    },
    {
      "cell_type": "markdown",
      "metadata": {
        "id": "Rjg-klXvVi_-"
      },
      "source": [
        "**Accessing/Changing specific elements,rows,columns, etc**\n",
        "\n",
        "---\n",
        "\n"
      ]
    },
    {
      "cell_type": "code",
      "metadata": {
        "colab": {
          "base_uri": "https://localhost:8080/"
        },
        "id": "LtrMbGsDT3jp",
        "outputId": "84588b94-bfaf-4561-b960-06d7845688eb"
      },
      "source": [
        "a=np.array([[1,2,6],[2,5,9],[6,3,8],[7,6,2]])\n",
        "a"
      ],
      "execution_count": 16,
      "outputs": [
        {
          "output_type": "execute_result",
          "data": {
            "text/plain": [
              "array([[1, 2, 6],\n",
              "       [2, 5, 9],\n",
              "       [6, 3, 8],\n",
              "       [7, 6, 2]])"
            ]
          },
          "metadata": {},
          "execution_count": 16
        }
      ]
    },
    {
      "cell_type": "markdown",
      "metadata": {
        "id": "5OOuGwcZWM4S"
      },
      "source": [
        "Get a specific element[r,c]"
      ]
    },
    {
      "cell_type": "code",
      "metadata": {
        "colab": {
          "base_uri": "https://localhost:8080/"
        },
        "id": "PSJexrJaT3eb",
        "outputId": "d53c7dcc-7d00-4897-cc9a-ce12e112e955"
      },
      "source": [
        "a[1,2]"
      ],
      "execution_count": 17,
      "outputs": [
        {
          "output_type": "execute_result",
          "data": {
            "text/plain": [
              "9"
            ]
          },
          "metadata": {},
          "execution_count": 17
        }
      ]
    },
    {
      "cell_type": "markdown",
      "metadata": {
        "id": "HKHjk9cyWb6W"
      },
      "source": [
        "Get a specific row"
      ]
    },
    {
      "cell_type": "code",
      "metadata": {
        "colab": {
          "base_uri": "https://localhost:8080/"
        },
        "id": "i6Hw8FwPT3aR",
        "outputId": "0cff7cec-783e-4f98-dd8b-466647ee30e2"
      },
      "source": [
        "a[1,:]"
      ],
      "execution_count": 18,
      "outputs": [
        {
          "output_type": "execute_result",
          "data": {
            "text/plain": [
              "array([2, 5, 9])"
            ]
          },
          "metadata": {},
          "execution_count": 18
        }
      ]
    },
    {
      "cell_type": "markdown",
      "metadata": {
        "id": "AY0DKLA4WqsP"
      },
      "source": [
        "Get a specific column"
      ]
    },
    {
      "cell_type": "code",
      "metadata": {
        "colab": {
          "base_uri": "https://localhost:8080/"
        },
        "id": "aINEdr_0T3Uj",
        "outputId": "7575a15a-a2fd-4994-a5bc-70f5aa8e7cb6"
      },
      "source": [
        "a[:,2]"
      ],
      "execution_count": 19,
      "outputs": [
        {
          "output_type": "execute_result",
          "data": {
            "text/plain": [
              "array([6, 9, 8, 2])"
            ]
          },
          "metadata": {},
          "execution_count": 19
        }
      ]
    },
    {
      "cell_type": "markdown",
      "metadata": {
        "id": "QlT3-deJW6b1"
      },
      "source": [
        "Part of a array"
      ]
    },
    {
      "cell_type": "code",
      "metadata": {
        "colab": {
          "base_uri": "https://localhost:8080/"
        },
        "id": "yj86Y9H7T3M8",
        "outputId": "d487542d-d559-4d7c-dc4c-d8c05cf9da38"
      },
      "source": [
        "a[0:-2,1:-1]"
      ],
      "execution_count": 25,
      "outputs": [
        {
          "output_type": "execute_result",
          "data": {
            "text/plain": [
              "array([[2],\n",
              "       [5]])"
            ]
          },
          "metadata": {},
          "execution_count": 25
        }
      ]
    },
    {
      "cell_type": "markdown",
      "metadata": {
        "id": "y7O66-7QX2JJ"
      },
      "source": [
        "Change the value\n"
      ]
    },
    {
      "cell_type": "code",
      "metadata": {
        "colab": {
          "base_uri": "https://localhost:8080/"
        },
        "id": "3FtUEnBST3Hm",
        "outputId": "83514de2-62c3-4c41-84a4-4073fc3f5132"
      },
      "source": [
        "a[1,1]=25\n",
        "a"
      ],
      "execution_count": 27,
      "outputs": [
        {
          "output_type": "execute_result",
          "data": {
            "text/plain": [
              "array([[ 1,  2,  6],\n",
              "       [ 2, 25,  9],\n",
              "       [ 6,  3,  8],\n",
              "       [ 7,  6,  2]])"
            ]
          },
          "metadata": {},
          "execution_count": 27
        }
      ]
    },
    {
      "cell_type": "code",
      "metadata": {
        "colab": {
          "base_uri": "https://localhost:8080/"
        },
        "id": "l_OhdeQRT3BU",
        "outputId": "8902be6a-0bec-4930-e241-bff3995ae26a"
      },
      "source": [
        "a[:,2]=[1,2,3,4]\n",
        "a"
      ],
      "execution_count": 30,
      "outputs": [
        {
          "output_type": "execute_result",
          "data": {
            "text/plain": [
              "array([[ 1,  2,  1],\n",
              "       [ 2, 25,  2],\n",
              "       [ 6,  3,  3],\n",
              "       [ 7,  6,  4]])"
            ]
          },
          "metadata": {},
          "execution_count": 30
        }
      ]
    },
    {
      "cell_type": "markdown",
      "metadata": {
        "id": "an67D8tjYsEX"
      },
      "source": [
        "3D Array"
      ]
    },
    {
      "cell_type": "code",
      "metadata": {
        "colab": {
          "base_uri": "https://localhost:8080/"
        },
        "id": "7lj0vdoPT2zM",
        "outputId": "6d6809ff-e0ba-4615-fe5a-eda06f037e03"
      },
      "source": [
        "c=np.array([[[1,2,3],[4,2,1]],[[6,3,7],[5,6,9]]])\n",
        "c"
      ],
      "execution_count": 32,
      "outputs": [
        {
          "output_type": "execute_result",
          "data": {
            "text/plain": [
              "array([[[1, 2, 3],\n",
              "        [4, 2, 1]],\n",
              "\n",
              "       [[6, 3, 7],\n",
              "        [5, 6, 9]]])"
            ]
          },
          "metadata": {},
          "execution_count": 32
        }
      ]
    },
    {
      "cell_type": "markdown",
      "metadata": {
        "id": "5TitGGP6Zk0y"
      },
      "source": [
        "Get specific Element"
      ]
    },
    {
      "cell_type": "code",
      "metadata": {
        "colab": {
          "base_uri": "https://localhost:8080/"
        },
        "id": "5Em3X9SyYCTn",
        "outputId": "2ded3ae4-67f8-4f58-a1a5-c4cf1641ed0a"
      },
      "source": [
        "c[0,1,:]"
      ],
      "execution_count": 34,
      "outputs": [
        {
          "output_type": "execute_result",
          "data": {
            "text/plain": [
              "array([4, 2, 1])"
            ]
          },
          "metadata": {},
          "execution_count": 34
        }
      ]
    },
    {
      "cell_type": "markdown",
      "metadata": {
        "id": "DS-74oYBaCJh"
      },
      "source": [
        "Replace "
      ]
    },
    {
      "cell_type": "code",
      "metadata": {
        "colab": {
          "base_uri": "https://localhost:8080/"
        },
        "id": "JnJrch3hYCPO",
        "outputId": "35012490-faeb-4f2b-d72d-c1b93c51660d"
      },
      "source": [
        "c[0,1,:]=[1,2,4]\n",
        "c"
      ],
      "execution_count": 35,
      "outputs": [
        {
          "output_type": "execute_result",
          "data": {
            "text/plain": [
              "array([[[1, 2, 3],\n",
              "        [1, 2, 4]],\n",
              "\n",
              "       [[6, 3, 7],\n",
              "        [5, 6, 9]]])"
            ]
          },
          "metadata": {},
          "execution_count": 35
        }
      ]
    },
    {
      "cell_type": "markdown",
      "metadata": {
        "id": "m7Cu4TQbaYPS"
      },
      "source": [
        "**Initializing Different Types of Array**"
      ]
    },
    {
      "cell_type": "markdown",
      "metadata": {
        "id": "95kXfEouaTzs"
      },
      "source": [
        "Zeroes Matrix"
      ]
    },
    {
      "cell_type": "code",
      "metadata": {
        "colab": {
          "base_uri": "https://localhost:8080/"
        },
        "id": "VgLe_vQ_YCLA",
        "outputId": "1f7720ea-b402-43e1-c973-bc5d58979846"
      },
      "source": [
        "np.zeros((5,3))"
      ],
      "execution_count": 41,
      "outputs": [
        {
          "output_type": "execute_result",
          "data": {
            "text/plain": [
              "array([[0., 0., 0.],\n",
              "       [0., 0., 0.],\n",
              "       [0., 0., 0.],\n",
              "       [0., 0., 0.],\n",
              "       [0., 0., 0.]])"
            ]
          },
          "metadata": {},
          "execution_count": 41
        }
      ]
    },
    {
      "cell_type": "markdown",
      "metadata": {
        "id": "W_xYKCvZbDDf"
      },
      "source": [
        "Ones Matrix "
      ]
    },
    {
      "cell_type": "code",
      "metadata": {
        "colab": {
          "base_uri": "https://localhost:8080/"
        },
        "id": "L11Mc5HNYCGu",
        "outputId": "1442a58f-f2d2-4d4d-f741-38547161c4ad"
      },
      "source": [
        "np.ones((3,3,3))"
      ],
      "execution_count": 44,
      "outputs": [
        {
          "output_type": "execute_result",
          "data": {
            "text/plain": [
              "array([[[1., 1., 1.],\n",
              "        [1., 1., 1.],\n",
              "        [1., 1., 1.]],\n",
              "\n",
              "       [[1., 1., 1.],\n",
              "        [1., 1., 1.],\n",
              "        [1., 1., 1.]],\n",
              "\n",
              "       [[1., 1., 1.],\n",
              "        [1., 1., 1.],\n",
              "        [1., 1., 1.]]])"
            ]
          },
          "metadata": {},
          "execution_count": 44
        }
      ]
    },
    {
      "cell_type": "markdown",
      "metadata": {
        "id": "FFtPhD5jbdHi"
      },
      "source": [
        "Other number"
      ]
    },
    {
      "cell_type": "code",
      "metadata": {
        "colab": {
          "base_uri": "https://localhost:8080/"
        },
        "id": "Zuc36D5AYCCn",
        "outputId": "e8a41783-1a9f-4845-81b1-3af23250c84b"
      },
      "source": [
        "np.full((2,2),7)"
      ],
      "execution_count": 45,
      "outputs": [
        {
          "output_type": "execute_result",
          "data": {
            "text/plain": [
              "array([[7, 7],\n",
              "       [7, 7]])"
            ]
          },
          "metadata": {},
          "execution_count": 45
        }
      ]
    },
    {
      "cell_type": "markdown",
      "metadata": {
        "id": "aDlHzPhYbqYl"
      },
      "source": [
        "Full_like"
      ]
    },
    {
      "cell_type": "code",
      "metadata": {
        "colab": {
          "base_uri": "https://localhost:8080/"
        },
        "id": "SY97VJmiYB-G",
        "outputId": "a81b0181-ba82-477a-f2ce-6c30ac517677"
      },
      "source": [
        "c=np.array([[[1,2,3],[4,2,1]],[[6,3,7],[5,6,9]]])\n",
        "d=np.full_like(c,6)\n",
        "d"
      ],
      "execution_count": 46,
      "outputs": [
        {
          "output_type": "execute_result",
          "data": {
            "text/plain": [
              "array([[[6, 6, 6],\n",
              "        [6, 6, 6]],\n",
              "\n",
              "       [[6, 6, 6],\n",
              "        [6, 6, 6]]])"
            ]
          },
          "metadata": {},
          "execution_count": 46
        }
      ]
    },
    {
      "cell_type": "markdown",
      "metadata": {
        "id": "KL7HmKNacIHk"
      },
      "source": [
        "Random decimal Numbers "
      ]
    },
    {
      "cell_type": "code",
      "metadata": {
        "colab": {
          "base_uri": "https://localhost:8080/"
        },
        "id": "IcELusdZYB4c",
        "outputId": "8c761a1a-1207-48d8-83d1-3e196ef11658"
      },
      "source": [
        "np.random.rand(4,3)"
      ],
      "execution_count": 47,
      "outputs": [
        {
          "output_type": "execute_result",
          "data": {
            "text/plain": [
              "array([[0.22256894, 0.03016414, 0.33285384],\n",
              "       [0.60527465, 0.11737709, 0.82658555],\n",
              "       [0.81860634, 0.59780135, 0.15981456],\n",
              "       [0.74526236, 0.98692948, 0.64152047]])"
            ]
          },
          "metadata": {},
          "execution_count": 47
        }
      ]
    },
    {
      "cell_type": "code",
      "metadata": {
        "colab": {
          "base_uri": "https://localhost:8080/"
        },
        "id": "eWfOmq_7YBz1",
        "outputId": "3cd38a28-acdb-4f39-8942-5f2b8cf62902"
      },
      "source": [
        "np.random.random_sample(c.shape)"
      ],
      "execution_count": 48,
      "outputs": [
        {
          "output_type": "execute_result",
          "data": {
            "text/plain": [
              "array([[[0.8581125 , 0.81881027, 0.82410742],\n",
              "        [0.13887286, 0.58967527, 0.1119762 ]],\n",
              "\n",
              "       [[0.68213801, 0.11701467, 0.42094156],\n",
              "        [0.55402649, 0.89649551, 0.0691587 ]]])"
            ]
          },
          "metadata": {},
          "execution_count": 48
        }
      ]
    },
    {
      "cell_type": "markdown",
      "metadata": {
        "id": "Y6FqZsekcuwv"
      },
      "source": [
        "Random Integer value"
      ]
    },
    {
      "cell_type": "code",
      "metadata": {
        "colab": {
          "base_uri": "https://localhost:8080/"
        },
        "id": "hYA8-QzAYBvX",
        "outputId": "7875356b-074d-4cc1-90bd-2f3195ced56d"
      },
      "source": [
        "np.random.randint(1,10,size=(3,3))"
      ],
      "execution_count": 49,
      "outputs": [
        {
          "output_type": "execute_result",
          "data": {
            "text/plain": [
              "array([[5, 6, 5],\n",
              "       [8, 4, 7],\n",
              "       [8, 3, 5]])"
            ]
          },
          "metadata": {},
          "execution_count": 49
        }
      ]
    },
    {
      "cell_type": "markdown",
      "metadata": {
        "id": "gdO88lnodKoL"
      },
      "source": [
        "Identity Matrix"
      ]
    },
    {
      "cell_type": "code",
      "metadata": {
        "colab": {
          "base_uri": "https://localhost:8080/"
        },
        "id": "2s9Hkt0HYBqW",
        "outputId": "ad511ab8-bb67-47e5-a546-715a3860b5ef"
      },
      "source": [
        "np.identity(3)"
      ],
      "execution_count": 51,
      "outputs": [
        {
          "output_type": "execute_result",
          "data": {
            "text/plain": [
              "array([[1., 0., 0.],\n",
              "       [0., 1., 0.],\n",
              "       [0., 0., 1.]])"
            ]
          },
          "metadata": {},
          "execution_count": 51
        }
      ]
    },
    {
      "cell_type": "markdown",
      "metadata": {
        "id": "rbqFqAiGdoJF"
      },
      "source": [
        "Repeat an array"
      ]
    },
    {
      "cell_type": "code",
      "metadata": {
        "colab": {
          "base_uri": "https://localhost:8080/"
        },
        "id": "bjGj4OGtYBk9",
        "outputId": "9f3e4adc-b726-489a-88ad-7f306fa6d037"
      },
      "source": [
        "e=np.array([[1,2,3]])\n",
        "f=np.repeat(e,3,axis=0)\n",
        "f"
      ],
      "execution_count": 52,
      "outputs": [
        {
          "output_type": "execute_result",
          "data": {
            "text/plain": [
              "array([[1, 2, 3],\n",
              "       [1, 2, 3],\n",
              "       [1, 2, 3]])"
            ]
          },
          "metadata": {},
          "execution_count": 52
        }
      ]
    },
    {
      "cell_type": "markdown",
      "metadata": {
        "id": "LzwnZ6aQe4bg"
      },
      "source": [
        "Copy Array"
      ]
    },
    {
      "cell_type": "code",
      "metadata": {
        "colab": {
          "base_uri": "https://localhost:8080/"
        },
        "id": "wW24ZVSfYBe9",
        "outputId": "19cb4720-ee3a-4210-d674-9dfc4ef97306"
      },
      "source": [
        "a=np.array([1,5,6])\n",
        "b=a.copy()\n",
        "b"
      ],
      "execution_count": 54,
      "outputs": [
        {
          "output_type": "execute_result",
          "data": {
            "text/plain": [
              "array([1, 5, 6])"
            ]
          },
          "metadata": {},
          "execution_count": 54
        }
      ]
    },
    {
      "cell_type": "markdown",
      "metadata": {
        "id": "nStLRC58fNt9"
      },
      "source": [
        "**Mathematics**"
      ]
    },
    {
      "cell_type": "markdown",
      "metadata": {
        "id": "5nOOsetcfTNp"
      },
      "source": [
        ""
      ]
    },
    {
      "cell_type": "code",
      "metadata": {
        "colab": {
          "base_uri": "https://localhost:8080/"
        },
        "id": "NUvmD7o1fMwh",
        "outputId": "9b6b97aa-aa9c-4a5a-f75e-6256454afe81"
      },
      "source": [
        "a=np.array([1,2,3,4])\n",
        "a"
      ],
      "execution_count": 56,
      "outputs": [
        {
          "output_type": "execute_result",
          "data": {
            "text/plain": [
              "array([1, 2, 3, 4])"
            ]
          },
          "metadata": {},
          "execution_count": 56
        }
      ]
    },
    {
      "cell_type": "markdown",
      "metadata": {
        "id": "Qh8VuS5QflPF"
      },
      "source": [
        "Addition"
      ]
    },
    {
      "cell_type": "code",
      "metadata": {
        "id": "hV_cMr_xYBWr"
      },
      "source": [
        "a+=10\n",
        "a"
      ],
      "execution_count": 62,
      "outputs": []
    },
    {
      "cell_type": "markdown",
      "metadata": {
        "id": "tKUZdl4RfvIs"
      },
      "source": [
        "Subtraction"
      ]
    },
    {
      "cell_type": "code",
      "metadata": {
        "colab": {
          "base_uri": "https://localhost:8080/"
        },
        "id": "AGlD0_PEYBOd",
        "outputId": "8434c819-60ec-411d-f5b4-71f68391e9cf"
      },
      "source": [
        "print(a)\n",
        "a-=100\n",
        "a"
      ],
      "execution_count": 60,
      "outputs": [
        {
          "output_type": "stream",
          "name": "stdout",
          "text": [
            "[-99 -98 -97 -96]\n"
          ]
        },
        {
          "output_type": "execute_result",
          "data": {
            "text/plain": [
              "array([-199, -198, -197, -196])"
            ]
          },
          "metadata": {},
          "execution_count": 60
        }
      ]
    },
    {
      "cell_type": "markdown",
      "metadata": {
        "id": "0xlZoZstgTpV"
      },
      "source": [
        "Multiple "
      ]
    },
    {
      "cell_type": "code",
      "metadata": {
        "colab": {
          "base_uri": "https://localhost:8080/"
        },
        "id": "rMOUMbVwYBHQ",
        "outputId": "7b92db6e-17ac-4a52-9780-6bd85ecd221b"
      },
      "source": [
        "a*2"
      ],
      "execution_count": 63,
      "outputs": [
        {
          "output_type": "execute_result",
          "data": {
            "text/plain": [
              "array([-358, -356, -354, -352])"
            ]
          },
          "metadata": {},
          "execution_count": 63
        }
      ]
    },
    {
      "cell_type": "markdown",
      "metadata": {
        "id": "z-Dqz22jgWd5"
      },
      "source": [
        "Divide "
      ]
    },
    {
      "cell_type": "code",
      "metadata": {
        "colab": {
          "base_uri": "https://localhost:8080/"
        },
        "id": "zEQOmtQFYBDD",
        "outputId": "f8cd1586-9f69-49d0-8fc7-dcb9913814b9"
      },
      "source": [
        "a/2"
      ],
      "execution_count": 64,
      "outputs": [
        {
          "output_type": "execute_result",
          "data": {
            "text/plain": [
              "array([-89.5, -89. , -88.5, -88. ])"
            ]
          },
          "metadata": {},
          "execution_count": 64
        }
      ]
    },
    {
      "cell_type": "code",
      "metadata": {
        "colab": {
          "base_uri": "https://localhost:8080/"
        },
        "id": "o6j_VBqEghGd",
        "outputId": "87047088-869a-450c-e204-1eeee2837aa9"
      },
      "source": [
        "9b=np.array([2,1,3,4])\n",
        "a=np.array([1,5,3,7])\n",
        "c=a+b\n",
        "c"
      ],
      "execution_count": 67,
      "outputs": [
        {
          "output_type": "execute_result",
          "data": {
            "text/plain": [
              "array([ 3,  6,  6, 11])"
            ]
          },
          "metadata": {},
          "execution_count": 67
        }
      ]
    },
    {
      "cell_type": "markdown",
      "metadata": {
        "id": "ERUdyHz5g7sx"
      },
      "source": [
        "sin()"
      ]
    },
    {
      "cell_type": "code",
      "metadata": {
        "colab": {
          "base_uri": "https://localhost:8080/"
        },
        "id": "XRAluTz9hDA7",
        "outputId": "f0237306-96ba-455a-d6b9-1977ae412dc6"
      },
      "source": [
        "np.sin(a)"
      ],
      "execution_count": 69,
      "outputs": [
        {
          "output_type": "execute_result",
          "data": {
            "text/plain": [
              "array([ 0.84147098, -0.95892427,  0.14112001,  0.6569866 ])"
            ]
          },
          "metadata": {},
          "execution_count": 69
        }
      ]
    },
    {
      "cell_type": "markdown",
      "metadata": {
        "id": "iX7PaMtchX_Y"
      },
      "source": [
        "**Linear Algebra**"
      ]
    },
    {
      "cell_type": "markdown",
      "metadata": {
        "id": "p-orN4Hhiijs"
      },
      "source": [
        "Matrix Multiple "
      ]
    },
    {
      "cell_type": "code",
      "metadata": {
        "colab": {
          "base_uri": "https://localhost:8080/"
        },
        "id": "ZCCpCLDzhcW4",
        "outputId": "9d4feed5-ac09-42d0-f6a5-976dff5cd8c9"
      },
      "source": [
        "a=np.ones((2,3))\n",
        "print(a)\n",
        "\n",
        "b=np.full((3,2),2)\n",
        "print(b)\n",
        "np.matmul(a,b)"
      ],
      "execution_count": 72,
      "outputs": [
        {
          "output_type": "stream",
          "name": "stdout",
          "text": [
            "[[1. 1. 1.]\n",
            " [1. 1. 1.]]\n",
            "[[2 2]\n",
            " [2 2]\n",
            " [2 2]]\n"
          ]
        },
        {
          "output_type": "execute_result",
          "data": {
            "text/plain": [
              "array([[6., 6.],\n",
              "       [6., 6.]])"
            ]
          },
          "metadata": {},
          "execution_count": 72
        }
      ]
    },
    {
      "cell_type": "markdown",
      "metadata": {
        "id": "aRy-zsqvicZE"
      },
      "source": [
        "Determinant"
      ]
    },
    {
      "cell_type": "code",
      "metadata": {
        "colab": {
          "base_uri": "https://localhost:8080/"
        },
        "id": "46wGbQMciMsl",
        "outputId": "fa47bab3-931c-466f-a856-e6ec229d2bce"
      },
      "source": [
        "a=np.array([[2,4],[6,5]])\n",
        "np.linalg.det(a)"
      ],
      "execution_count": 74,
      "outputs": [
        {
          "output_type": "execute_result",
          "data": {
            "text/plain": [
              "-14.000000000000004"
            ]
          },
          "metadata": {},
          "execution_count": 74
        }
      ]
    },
    {
      "cell_type": "markdown",
      "metadata": {
        "id": "61DodtA4iw-9"
      },
      "source": [
        "Inverse Matrix"
      ]
    },
    {
      "cell_type": "code",
      "metadata": {
        "colab": {
          "base_uri": "https://localhost:8080/"
        },
        "id": "GyOf1xgIim2B",
        "outputId": "0573e12d-9a3e-46ef-8e43-8f21e4b7f7e1"
      },
      "source": [
        "np.linalg.inv(a)"
      ],
      "execution_count": 75,
      "outputs": [
        {
          "output_type": "execute_result",
          "data": {
            "text/plain": [
              "array([[-0.35714286,  0.28571429],\n",
              "       [ 0.42857143, -0.14285714]])"
            ]
          },
          "metadata": {},
          "execution_count": 75
        }
      ]
    },
    {
      "cell_type": "markdown",
      "metadata": {
        "id": "Cdhc3T7Ri7T6"
      },
      "source": [
        "**Statistics**"
      ]
    },
    {
      "cell_type": "code",
      "metadata": {
        "colab": {
          "base_uri": "https://localhost:8080/"
        },
        "id": "3ossGSY1jF7P",
        "outputId": "8c70ba4e-7ce0-4372-d319-e50b6b19d940"
      },
      "source": [
        "sta=np.array([[1,1,5],[2,3,4]])\n",
        "sta"
      ],
      "execution_count": 77,
      "outputs": [
        {
          "output_type": "execute_result",
          "data": {
            "text/plain": [
              "array([[1, 1, 5],\n",
              "       [2, 3, 4]])"
            ]
          },
          "metadata": {},
          "execution_count": 77
        }
      ]
    },
    {
      "cell_type": "code",
      "metadata": {
        "colab": {
          "base_uri": "https://localhost:8080/"
        },
        "id": "bEeRWYtfkqzv",
        "outputId": "5d56eefb-b9a7-42cb-ccb6-2e8ecbceac1a"
      },
      "source": [
        "np.min(sta,axis=0)"
      ],
      "execution_count": 78,
      "outputs": [
        {
          "output_type": "execute_result",
          "data": {
            "text/plain": [
              "array([1, 1, 4])"
            ]
          },
          "metadata": {},
          "execution_count": 78
        }
      ]
    },
    {
      "cell_type": "code",
      "metadata": {
        "colab": {
          "base_uri": "https://localhost:8080/"
        },
        "id": "j-7bIe2Pk1AI",
        "outputId": "b2a6d650-8545-4242-a785-73adbb43ee59"
      },
      "source": [
        "np.max(sta)"
      ],
      "execution_count": 79,
      "outputs": [
        {
          "output_type": "execute_result",
          "data": {
            "text/plain": [
              "5"
            ]
          },
          "metadata": {},
          "execution_count": 79
        }
      ]
    },
    {
      "cell_type": "code",
      "metadata": {
        "colab": {
          "base_uri": "https://localhost:8080/"
        },
        "id": "Zf4t9LbWk7gs",
        "outputId": "ff02fe1e-a66d-4f56-cd8c-bf095fbe5a58"
      },
      "source": [
        "np.sum(sta)"
      ],
      "execution_count": 80,
      "outputs": [
        {
          "output_type": "execute_result",
          "data": {
            "text/plain": [
              "16"
            ]
          },
          "metadata": {},
          "execution_count": 80
        }
      ]
    },
    {
      "cell_type": "markdown",
      "metadata": {
        "id": "LaKe86k5lQY0"
      },
      "source": [
        "Reorganizing Arrays"
      ]
    },
    {
      "cell_type": "code",
      "metadata": {
        "colab": {
          "base_uri": "https://localhost:8080/"
        },
        "id": "RgDnrPtOk_pU",
        "outputId": "a97d655e-cbde-4bb3-c68a-0485495f0234"
      },
      "source": [
        "before=np.array([[1,2,3,4],[5,6,7,8]])\n",
        "print(before)\n",
        "after=before.reshape((4,2))\n",
        "after"
      ],
      "execution_count": 82,
      "outputs": [
        {
          "output_type": "stream",
          "name": "stdout",
          "text": [
            "[[1 2 3 4]\n",
            " [5 6 7 8]]\n"
          ]
        },
        {
          "output_type": "execute_result",
          "data": {
            "text/plain": [
              "array([[1, 2],\n",
              "       [3, 4],\n",
              "       [5, 6],\n",
              "       [7, 8]])"
            ]
          },
          "metadata": {},
          "execution_count": 82
        }
      ]
    },
    {
      "cell_type": "markdown",
      "metadata": {
        "id": "1NEqFUwYmQ-B"
      },
      "source": [
        "Stacking"
      ]
    },
    {
      "cell_type": "code",
      "metadata": {
        "colab": {
          "base_uri": "https://localhost:8080/"
        },
        "id": "ugsgObZCl6aU",
        "outputId": "33f2c8f2-8c40-4ea0-b8f2-d266357749cd"
      },
      "source": [
        "v1=np.array([1,2,3,4])\n",
        "v2=np.array([5,6,7,8])\n",
        "np.vstack([v1,v2])"
      ],
      "execution_count": 84,
      "outputs": [
        {
          "output_type": "execute_result",
          "data": {
            "text/plain": [
              "array([[1, 2, 3, 4],\n",
              "       [5, 6, 7, 8]])"
            ]
          },
          "metadata": {},
          "execution_count": 84
        }
      ]
    },
    {
      "cell_type": "markdown",
      "metadata": {
        "id": "jZDntStamrqI"
      },
      "source": [
        "**Miscellaneous**"
      ]
    },
    {
      "cell_type": "markdown",
      "metadata": {
        "id": "m-bRLghNm2PJ"
      },
      "source": [
        "Load Data"
      ]
    },
    {
      "cell_type": "code",
      "metadata": {
        "colab": {
          "base_uri": "https://localhost:8080/"
        },
        "id": "2j5Ux3P4m5TD",
        "outputId": "bff036e8-8de2-44cb-cbea-c88dfecbd960"
      },
      "source": [
        "filedata=np.genfromtxt('data.txt',delimiter=',')\n",
        "fdata=filedata.astype('int32')\n",
        "filedata"
      ],
      "execution_count": 89,
      "outputs": [
        {
          "output_type": "execute_result",
          "data": {
            "text/plain": [
              "array([[ 1.,  2.,  3.,  4.,  5.,  6.,  7.,  8.,  9., 10.],\n",
              "       [11., 12., 13., 14., 15., 16., 17., 18., 19., 20.]])"
            ]
          },
          "metadata": {},
          "execution_count": 89
        }
      ]
    },
    {
      "cell_type": "markdown",
      "metadata": {
        "id": "WqiT38NsomdJ"
      },
      "source": [
        "Booean Masking"
      ]
    },
    {
      "cell_type": "code",
      "metadata": {
        "colab": {
          "base_uri": "https://localhost:8080/"
        },
        "id": "ob6-8B-QoqXr",
        "outputId": "29d6e170-7fc2-4f9c-d04f-bb2aa54137c1"
      },
      "source": [
        "fdata>10"
      ],
      "execution_count": 90,
      "outputs": [
        {
          "output_type": "execute_result",
          "data": {
            "text/plain": [
              "array([[False, False, False, False, False, False, False, False, False,\n",
              "        False],\n",
              "       [ True,  True,  True,  True,  True,  True,  True,  True,  True,\n",
              "         True]])"
            ]
          },
          "metadata": {},
          "execution_count": 90
        }
      ]
    },
    {
      "cell_type": "code",
      "metadata": {
        "colab": {
          "base_uri": "https://localhost:8080/"
        },
        "id": "ye1yA2Fto5AL",
        "outputId": "9cfd6540-8e08-44d9-e58f-9b5fe681b916"
      },
      "source": [
        "fdata[fdata>10]"
      ],
      "execution_count": 92,
      "outputs": [
        {
          "output_type": "execute_result",
          "data": {
            "text/plain": [
              "array([11, 12, 13, 14, 15, 16, 17, 18, 19, 20], dtype=int32)"
            ]
          },
          "metadata": {},
          "execution_count": 92
        }
      ]
    },
    {
      "cell_type": "code",
      "metadata": {
        "colab": {
          "base_uri": "https://localhost:8080/"
        },
        "id": "ktd9x5q-pTbF",
        "outputId": "ee917e12-29b8-4722-b262-0bf41ec60a53"
      },
      "source": [
        "fdata[[1]]"
      ],
      "execution_count": 95,
      "outputs": [
        {
          "output_type": "execute_result",
          "data": {
            "text/plain": [
              "array([[11, 12, 13, 14, 15, 16, 17, 18, 19, 20]], dtype=int32)"
            ]
          },
          "metadata": {},
          "execution_count": 95
        }
      ]
    },
    {
      "cell_type": "code",
      "metadata": {
        "colab": {
          "base_uri": "https://localhost:8080/"
        },
        "id": "UflMpH_Tpowi",
        "outputId": "e6ea6052-a729-44c4-e518-3ab9dc3f9bd0"
      },
      "source": [
        "fdata[[1],[1]]"
      ],
      "execution_count": 98,
      "outputs": [
        {
          "output_type": "execute_result",
          "data": {
            "text/plain": [
              "array([12], dtype=int32)"
            ]
          },
          "metadata": {},
          "execution_count": 98
        }
      ]
    }
  ]
}