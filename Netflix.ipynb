{
  "nbformat": 4,
  "nbformat_minor": 0,
  "metadata": {
    "colab": {
      "name": "Untitled5.ipynb",
      "provenance": []
    },
    "kernelspec": {
      "name": "python3",
      "display_name": "Python 3"
    },
    "language_info": {
      "name": "python"
    }
  },
  "cells": [
    {
      "cell_type": "code",
      "metadata": {
        "colab": {
          "base_uri": "https://localhost:8080/",
          "height": 806
        },
        "id": "b1ySY1nzVKDG",
        "outputId": "2948f9a0-1e37-4ce9-9b62-1123264c579d"
      },
      "source": [
        "import pandas as pd\n",
        "import seaborn as sns\n",
        "data=pd.read_csv(r\"NetflixDataset.csv\")\n",
        "data"
      ],
      "execution_count": 141,
      "outputs": [
        {
          "output_type": "execute_result",
          "data": {
            "text/html": [
              "<div>\n",
              "<style scoped>\n",
              "    .dataframe tbody tr th:only-of-type {\n",
              "        vertical-align: middle;\n",
              "    }\n",
              "\n",
              "    .dataframe tbody tr th {\n",
              "        vertical-align: top;\n",
              "    }\n",
              "\n",
              "    .dataframe thead th {\n",
              "        text-align: right;\n",
              "    }\n",
              "</style>\n",
              "<table border=\"1\" class=\"dataframe\">\n",
              "  <thead>\n",
              "    <tr style=\"text-align: right;\">\n",
              "      <th></th>\n",
              "      <th>Show_Id</th>\n",
              "      <th>Category</th>\n",
              "      <th>Title</th>\n",
              "      <th>Director</th>\n",
              "      <th>Cast</th>\n",
              "      <th>Country</th>\n",
              "      <th>Release_Date</th>\n",
              "      <th>Rating</th>\n",
              "      <th>Duration</th>\n",
              "      <th>Type</th>\n",
              "      <th>Description</th>\n",
              "    </tr>\n",
              "  </thead>\n",
              "  <tbody>\n",
              "    <tr>\n",
              "      <th>0</th>\n",
              "      <td>s1</td>\n",
              "      <td>TV Show</td>\n",
              "      <td>3%</td>\n",
              "      <td>NaN</td>\n",
              "      <td>João Miguel, Bianca Comparato, Michel Gomes, R...</td>\n",
              "      <td>Brazil</td>\n",
              "      <td>August 14, 2020</td>\n",
              "      <td>TV-MA</td>\n",
              "      <td>4 Seasons</td>\n",
              "      <td>International TV Shows, TV Dramas, TV Sci-Fi &amp;...</td>\n",
              "      <td>In a future where the elite inhabit an island ...</td>\n",
              "    </tr>\n",
              "    <tr>\n",
              "      <th>1</th>\n",
              "      <td>s2</td>\n",
              "      <td>Movie</td>\n",
              "      <td>07:19</td>\n",
              "      <td>Jorge Michel Grau</td>\n",
              "      <td>Demián Bichir, Héctor Bonilla, Oscar Serrano, ...</td>\n",
              "      <td>Mexico</td>\n",
              "      <td>December 23, 2016</td>\n",
              "      <td>TV-MA</td>\n",
              "      <td>93 min</td>\n",
              "      <td>Dramas, International Movies</td>\n",
              "      <td>After a devastating earthquake hits Mexico Cit...</td>\n",
              "    </tr>\n",
              "    <tr>\n",
              "      <th>2</th>\n",
              "      <td>s3</td>\n",
              "      <td>Movie</td>\n",
              "      <td>23:59</td>\n",
              "      <td>Gilbert Chan</td>\n",
              "      <td>Tedd Chan, Stella Chung, Henley Hii, Lawrence ...</td>\n",
              "      <td>Singapore</td>\n",
              "      <td>December 20, 2018</td>\n",
              "      <td>R</td>\n",
              "      <td>78 min</td>\n",
              "      <td>Horror Movies, International Movies</td>\n",
              "      <td>When an army recruit is found dead, his fellow...</td>\n",
              "    </tr>\n",
              "    <tr>\n",
              "      <th>3</th>\n",
              "      <td>s4</td>\n",
              "      <td>Movie</td>\n",
              "      <td>9</td>\n",
              "      <td>Shane Acker</td>\n",
              "      <td>Elijah Wood, John C. Reilly, Jennifer Connelly...</td>\n",
              "      <td>United States</td>\n",
              "      <td>November 16, 2017</td>\n",
              "      <td>PG-13</td>\n",
              "      <td>80 min</td>\n",
              "      <td>Action &amp; Adventure, Independent Movies, Sci-Fi...</td>\n",
              "      <td>In a postapocalyptic world, rag-doll robots hi...</td>\n",
              "    </tr>\n",
              "    <tr>\n",
              "      <th>4</th>\n",
              "      <td>s5</td>\n",
              "      <td>Movie</td>\n",
              "      <td>21</td>\n",
              "      <td>Robert Luketic</td>\n",
              "      <td>Jim Sturgess, Kevin Spacey, Kate Bosworth, Aar...</td>\n",
              "      <td>United States</td>\n",
              "      <td>January 1, 2020</td>\n",
              "      <td>PG-13</td>\n",
              "      <td>123 min</td>\n",
              "      <td>Dramas</td>\n",
              "      <td>A brilliant group of students become card-coun...</td>\n",
              "    </tr>\n",
              "    <tr>\n",
              "      <th>...</th>\n",
              "      <td>...</td>\n",
              "      <td>...</td>\n",
              "      <td>...</td>\n",
              "      <td>...</td>\n",
              "      <td>...</td>\n",
              "      <td>...</td>\n",
              "      <td>...</td>\n",
              "      <td>...</td>\n",
              "      <td>...</td>\n",
              "      <td>...</td>\n",
              "      <td>...</td>\n",
              "    </tr>\n",
              "    <tr>\n",
              "      <th>7784</th>\n",
              "      <td>s7783</td>\n",
              "      <td>Movie</td>\n",
              "      <td>Zozo</td>\n",
              "      <td>Josef Fares</td>\n",
              "      <td>Imad Creidi, Antoinette Turk, Elias Gergi, Car...</td>\n",
              "      <td>Sweden, Czech Republic, United Kingdom, Denmar...</td>\n",
              "      <td>October 19, 2020</td>\n",
              "      <td>TV-MA</td>\n",
              "      <td>99 min</td>\n",
              "      <td>Dramas, International Movies</td>\n",
              "      <td>When Lebanon's Civil War deprives Zozo of his ...</td>\n",
              "    </tr>\n",
              "    <tr>\n",
              "      <th>7785</th>\n",
              "      <td>s7784</td>\n",
              "      <td>Movie</td>\n",
              "      <td>Zubaan</td>\n",
              "      <td>Mozez Singh</td>\n",
              "      <td>Vicky Kaushal, Sarah-Jane Dias, Raaghav Chanan...</td>\n",
              "      <td>India</td>\n",
              "      <td>March 2, 2019</td>\n",
              "      <td>TV-14</td>\n",
              "      <td>111 min</td>\n",
              "      <td>Dramas, International Movies, Music &amp; Musicals</td>\n",
              "      <td>A scrappy but poor boy worms his way into a ty...</td>\n",
              "    </tr>\n",
              "    <tr>\n",
              "      <th>7786</th>\n",
              "      <td>s7785</td>\n",
              "      <td>Movie</td>\n",
              "      <td>Zulu Man in Japan</td>\n",
              "      <td>NaN</td>\n",
              "      <td>Nasty C</td>\n",
              "      <td>NaN</td>\n",
              "      <td>September 25, 2020</td>\n",
              "      <td>TV-MA</td>\n",
              "      <td>44 min</td>\n",
              "      <td>Documentaries, International Movies, Music &amp; M...</td>\n",
              "      <td>In this documentary, South African rapper Nast...</td>\n",
              "    </tr>\n",
              "    <tr>\n",
              "      <th>7787</th>\n",
              "      <td>s7786</td>\n",
              "      <td>TV Show</td>\n",
              "      <td>Zumbo's Just Desserts</td>\n",
              "      <td>NaN</td>\n",
              "      <td>Adriano Zumbo, Rachel Khoo</td>\n",
              "      <td>Australia</td>\n",
              "      <td>October 31, 2020</td>\n",
              "      <td>TV-PG</td>\n",
              "      <td>1 Season</td>\n",
              "      <td>International TV Shows, Reality TV</td>\n",
              "      <td>Dessert wizard Adriano Zumbo looks for the nex...</td>\n",
              "    </tr>\n",
              "    <tr>\n",
              "      <th>7788</th>\n",
              "      <td>s7787</td>\n",
              "      <td>Movie</td>\n",
              "      <td>ZZ TOP: THAT LITTLE OL' BAND FROM TEXAS</td>\n",
              "      <td>Sam Dunn</td>\n",
              "      <td>NaN</td>\n",
              "      <td>United Kingdom, Canada, United States</td>\n",
              "      <td>March 1, 2020</td>\n",
              "      <td>TV-MA</td>\n",
              "      <td>90 min</td>\n",
              "      <td>Documentaries, Music &amp; Musicals</td>\n",
              "      <td>This documentary delves into the mystique behi...</td>\n",
              "    </tr>\n",
              "  </tbody>\n",
              "</table>\n",
              "<p>7789 rows × 11 columns</p>\n",
              "</div>"
            ],
            "text/plain": [
              "     Show_Id  ...                                        Description\n",
              "0         s1  ...  In a future where the elite inhabit an island ...\n",
              "1         s2  ...  After a devastating earthquake hits Mexico Cit...\n",
              "2         s3  ...  When an army recruit is found dead, his fellow...\n",
              "3         s4  ...  In a postapocalyptic world, rag-doll robots hi...\n",
              "4         s5  ...  A brilliant group of students become card-coun...\n",
              "...      ...  ...                                                ...\n",
              "7784   s7783  ...  When Lebanon's Civil War deprives Zozo of his ...\n",
              "7785   s7784  ...  A scrappy but poor boy worms his way into a ty...\n",
              "7786   s7785  ...  In this documentary, South African rapper Nast...\n",
              "7787   s7786  ...  Dessert wizard Adriano Zumbo looks for the nex...\n",
              "7788   s7787  ...  This documentary delves into the mystique behi...\n",
              "\n",
              "[7789 rows x 11 columns]"
            ]
          },
          "metadata": {},
          "execution_count": 141
        }
      ]
    },
    {
      "cell_type": "markdown",
      "metadata": {
        "id": "Ae-kU_1UWQOu"
      },
      "source": [
        "Shape"
      ]
    },
    {
      "cell_type": "code",
      "metadata": {
        "colab": {
          "base_uri": "https://localhost:8080/"
        },
        "id": "cW2bH5DqWPGv",
        "outputId": "f06c286b-5949-4602-d5ce-f015cb6927b7"
      },
      "source": [
        "data.shape"
      ],
      "execution_count": 117,
      "outputs": [
        {
          "output_type": "execute_result",
          "data": {
            "text/plain": [
              "(7789, 11)"
            ]
          },
          "metadata": {},
          "execution_count": 117
        }
      ]
    },
    {
      "cell_type": "markdown",
      "metadata": {
        "id": "7jh8GMYGWWM-"
      },
      "source": [
        "Size"
      ]
    },
    {
      "cell_type": "code",
      "metadata": {
        "colab": {
          "base_uri": "https://localhost:8080/"
        },
        "id": "TiQx3pB8WXtf",
        "outputId": "df77cfa6-14a8-46b6-b2a7-fee24cb1a373"
      },
      "source": [
        "data.size"
      ],
      "execution_count": 118,
      "outputs": [
        {
          "output_type": "execute_result",
          "data": {
            "text/plain": [
              "85679"
            ]
          },
          "metadata": {},
          "execution_count": 118
        }
      ]
    },
    {
      "cell_type": "markdown",
      "metadata": {
        "id": "0rNKJDyxWb4J"
      },
      "source": [
        "Duplicate "
      ]
    },
    {
      "cell_type": "code",
      "metadata": {
        "colab": {
          "base_uri": "https://localhost:8080/",
          "height": 164
        },
        "id": "a7CncEK3Wey6",
        "outputId": "d9a8de2a-3629-450b-ba11-30810fdf2dc6"
      },
      "source": [
        "data[data.duplicated()]"
      ],
      "execution_count": 119,
      "outputs": [
        {
          "output_type": "execute_result",
          "data": {
            "text/html": [
              "<div>\n",
              "<style scoped>\n",
              "    .dataframe tbody tr th:only-of-type {\n",
              "        vertical-align: middle;\n",
              "    }\n",
              "\n",
              "    .dataframe tbody tr th {\n",
              "        vertical-align: top;\n",
              "    }\n",
              "\n",
              "    .dataframe thead th {\n",
              "        text-align: right;\n",
              "    }\n",
              "</style>\n",
              "<table border=\"1\" class=\"dataframe\">\n",
              "  <thead>\n",
              "    <tr style=\"text-align: right;\">\n",
              "      <th></th>\n",
              "      <th>Show_Id</th>\n",
              "      <th>Category</th>\n",
              "      <th>Title</th>\n",
              "      <th>Director</th>\n",
              "      <th>Cast</th>\n",
              "      <th>Country</th>\n",
              "      <th>Release_Date</th>\n",
              "      <th>Rating</th>\n",
              "      <th>Duration</th>\n",
              "      <th>Type</th>\n",
              "      <th>Description</th>\n",
              "    </tr>\n",
              "  </thead>\n",
              "  <tbody>\n",
              "    <tr>\n",
              "      <th>6300</th>\n",
              "      <td>s684</td>\n",
              "      <td>Movie</td>\n",
              "      <td>Backfire</td>\n",
              "      <td>Dave Patten</td>\n",
              "      <td>Black Deniro, Byron \"Squally\" Vinson, Dominic ...</td>\n",
              "      <td>United States</td>\n",
              "      <td>April 5, 2019</td>\n",
              "      <td>TV-MA</td>\n",
              "      <td>97 min</td>\n",
              "      <td>Dramas, Independent Movies, Thrillers</td>\n",
              "      <td>When two would-be robbers accidentally kill a ...</td>\n",
              "    </tr>\n",
              "    <tr>\n",
              "      <th>6622</th>\n",
              "      <td>s6621</td>\n",
              "      <td>Movie</td>\n",
              "      <td>The Lost Okoroshi</td>\n",
              "      <td>Abba T. Makama</td>\n",
              "      <td>Seun Ajayi, Judith Audu, Tope Tedela, Ifu Enna...</td>\n",
              "      <td>Nigeria</td>\n",
              "      <td>September 4, 2020</td>\n",
              "      <td>TV-MA</td>\n",
              "      <td>94 min</td>\n",
              "      <td>Comedies, Dramas, Independent Movies</td>\n",
              "      <td>A disillusioned security guard transforms into...</td>\n",
              "    </tr>\n",
              "  </tbody>\n",
              "</table>\n",
              "</div>"
            ],
            "text/plain": [
              "     Show_Id  ...                                        Description\n",
              "6300    s684  ...  When two would-be robbers accidentally kill a ...\n",
              "6622   s6621  ...  A disillusioned security guard transforms into...\n",
              "\n",
              "[2 rows x 11 columns]"
            ]
          },
          "metadata": {},
          "execution_count": 119
        }
      ]
    },
    {
      "cell_type": "code",
      "metadata": {
        "id": "tlPgIMEhWoTS"
      },
      "source": [
        "data.drop_duplicates(inplace=True)"
      ],
      "execution_count": 120,
      "outputs": []
    },
    {
      "cell_type": "code",
      "metadata": {
        "colab": {
          "base_uri": "https://localhost:8080/"
        },
        "id": "J3c5lkqqW1Uq",
        "outputId": "0e9c969f-9c78-469a-aacd-cdd140e68f75"
      },
      "source": [
        "data.shape"
      ],
      "execution_count": 121,
      "outputs": [
        {
          "output_type": "execute_result",
          "data": {
            "text/plain": [
              "(7787, 11)"
            ]
          },
          "metadata": {},
          "execution_count": 121
        }
      ]
    },
    {
      "cell_type": "code",
      "metadata": {
        "colab": {
          "base_uri": "https://localhost:8080/"
        },
        "id": "eovKJrA-W6YV",
        "outputId": "a823e179-deb4-4933-ed25-abfb770121e6"
      },
      "source": [
        "data.columns"
      ],
      "execution_count": 122,
      "outputs": [
        {
          "output_type": "execute_result",
          "data": {
            "text/plain": [
              "Index(['Show_Id', 'Category', 'Title', 'Director', 'Cast', 'Country',\n",
              "       'Release_Date', 'Rating', 'Duration', 'Type', 'Description'],\n",
              "      dtype='object')"
            ]
          },
          "metadata": {},
          "execution_count": 122
        }
      ]
    },
    {
      "cell_type": "code",
      "metadata": {
        "colab": {
          "base_uri": "https://localhost:8080/"
        },
        "id": "X1xNydo1W_q3",
        "outputId": "7bd28acb-bb18-44d4-9917-6581e4336a8d"
      },
      "source": [
        "data.dtypes"
      ],
      "execution_count": 123,
      "outputs": [
        {
          "output_type": "execute_result",
          "data": {
            "text/plain": [
              "Show_Id         object\n",
              "Category        object\n",
              "Title           object\n",
              "Director        object\n",
              "Cast            object\n",
              "Country         object\n",
              "Release_Date    object\n",
              "Rating          object\n",
              "Duration        object\n",
              "Type            object\n",
              "Description     object\n",
              "dtype: object"
            ]
          },
          "metadata": {},
          "execution_count": 123
        }
      ]
    },
    {
      "cell_type": "code",
      "metadata": {
        "colab": {
          "base_uri": "https://localhost:8080/"
        },
        "id": "ESpGWt0lXLdd",
        "outputId": "dd063b75-5830-42f0-a0d7-85c7941b6544"
      },
      "source": [
        "data.info()"
      ],
      "execution_count": 124,
      "outputs": [
        {
          "output_type": "stream",
          "name": "stdout",
          "text": [
            "<class 'pandas.core.frame.DataFrame'>\n",
            "Int64Index: 7787 entries, 0 to 7788\n",
            "Data columns (total 11 columns):\n",
            " #   Column        Non-Null Count  Dtype \n",
            "---  ------        --------------  ----- \n",
            " 0   Show_Id       7787 non-null   object\n",
            " 1   Category      7787 non-null   object\n",
            " 2   Title         7787 non-null   object\n",
            " 3   Director      5399 non-null   object\n",
            " 4   Cast          7069 non-null   object\n",
            " 5   Country       7280 non-null   object\n",
            " 6   Release_Date  7777 non-null   object\n",
            " 7   Rating        7780 non-null   object\n",
            " 8   Duration      7787 non-null   object\n",
            " 9   Type          7787 non-null   object\n",
            " 10  Description   7787 non-null   object\n",
            "dtypes: object(11)\n",
            "memory usage: 730.0+ KB\n"
          ]
        }
      ]
    },
    {
      "cell_type": "markdown",
      "metadata": {
        "id": "kPgAjMN4Xbel"
      },
      "source": [
        "Is there any Null value present in any column ?"
      ]
    },
    {
      "cell_type": "code",
      "metadata": {
        "colab": {
          "base_uri": "https://localhost:8080/",
          "height": 424
        },
        "id": "yVa7ErI_XTCP",
        "outputId": "e1c2fb19-eb97-4016-aa98-0385e81704c9"
      },
      "source": [
        "data.isnull()"
      ],
      "execution_count": 125,
      "outputs": [
        {
          "output_type": "execute_result",
          "data": {
            "text/html": [
              "<div>\n",
              "<style scoped>\n",
              "    .dataframe tbody tr th:only-of-type {\n",
              "        vertical-align: middle;\n",
              "    }\n",
              "\n",
              "    .dataframe tbody tr th {\n",
              "        vertical-align: top;\n",
              "    }\n",
              "\n",
              "    .dataframe thead th {\n",
              "        text-align: right;\n",
              "    }\n",
              "</style>\n",
              "<table border=\"1\" class=\"dataframe\">\n",
              "  <thead>\n",
              "    <tr style=\"text-align: right;\">\n",
              "      <th></th>\n",
              "      <th>Show_Id</th>\n",
              "      <th>Category</th>\n",
              "      <th>Title</th>\n",
              "      <th>Director</th>\n",
              "      <th>Cast</th>\n",
              "      <th>Country</th>\n",
              "      <th>Release_Date</th>\n",
              "      <th>Rating</th>\n",
              "      <th>Duration</th>\n",
              "      <th>Type</th>\n",
              "      <th>Description</th>\n",
              "    </tr>\n",
              "  </thead>\n",
              "  <tbody>\n",
              "    <tr>\n",
              "      <th>0</th>\n",
              "      <td>False</td>\n",
              "      <td>False</td>\n",
              "      <td>False</td>\n",
              "      <td>True</td>\n",
              "      <td>False</td>\n",
              "      <td>False</td>\n",
              "      <td>False</td>\n",
              "      <td>False</td>\n",
              "      <td>False</td>\n",
              "      <td>False</td>\n",
              "      <td>False</td>\n",
              "    </tr>\n",
              "    <tr>\n",
              "      <th>1</th>\n",
              "      <td>False</td>\n",
              "      <td>False</td>\n",
              "      <td>False</td>\n",
              "      <td>False</td>\n",
              "      <td>False</td>\n",
              "      <td>False</td>\n",
              "      <td>False</td>\n",
              "      <td>False</td>\n",
              "      <td>False</td>\n",
              "      <td>False</td>\n",
              "      <td>False</td>\n",
              "    </tr>\n",
              "    <tr>\n",
              "      <th>2</th>\n",
              "      <td>False</td>\n",
              "      <td>False</td>\n",
              "      <td>False</td>\n",
              "      <td>False</td>\n",
              "      <td>False</td>\n",
              "      <td>False</td>\n",
              "      <td>False</td>\n",
              "      <td>False</td>\n",
              "      <td>False</td>\n",
              "      <td>False</td>\n",
              "      <td>False</td>\n",
              "    </tr>\n",
              "    <tr>\n",
              "      <th>3</th>\n",
              "      <td>False</td>\n",
              "      <td>False</td>\n",
              "      <td>False</td>\n",
              "      <td>False</td>\n",
              "      <td>False</td>\n",
              "      <td>False</td>\n",
              "      <td>False</td>\n",
              "      <td>False</td>\n",
              "      <td>False</td>\n",
              "      <td>False</td>\n",
              "      <td>False</td>\n",
              "    </tr>\n",
              "    <tr>\n",
              "      <th>4</th>\n",
              "      <td>False</td>\n",
              "      <td>False</td>\n",
              "      <td>False</td>\n",
              "      <td>False</td>\n",
              "      <td>False</td>\n",
              "      <td>False</td>\n",
              "      <td>False</td>\n",
              "      <td>False</td>\n",
              "      <td>False</td>\n",
              "      <td>False</td>\n",
              "      <td>False</td>\n",
              "    </tr>\n",
              "    <tr>\n",
              "      <th>...</th>\n",
              "      <td>...</td>\n",
              "      <td>...</td>\n",
              "      <td>...</td>\n",
              "      <td>...</td>\n",
              "      <td>...</td>\n",
              "      <td>...</td>\n",
              "      <td>...</td>\n",
              "      <td>...</td>\n",
              "      <td>...</td>\n",
              "      <td>...</td>\n",
              "      <td>...</td>\n",
              "    </tr>\n",
              "    <tr>\n",
              "      <th>7784</th>\n",
              "      <td>False</td>\n",
              "      <td>False</td>\n",
              "      <td>False</td>\n",
              "      <td>False</td>\n",
              "      <td>False</td>\n",
              "      <td>False</td>\n",
              "      <td>False</td>\n",
              "      <td>False</td>\n",
              "      <td>False</td>\n",
              "      <td>False</td>\n",
              "      <td>False</td>\n",
              "    </tr>\n",
              "    <tr>\n",
              "      <th>7785</th>\n",
              "      <td>False</td>\n",
              "      <td>False</td>\n",
              "      <td>False</td>\n",
              "      <td>False</td>\n",
              "      <td>False</td>\n",
              "      <td>False</td>\n",
              "      <td>False</td>\n",
              "      <td>False</td>\n",
              "      <td>False</td>\n",
              "      <td>False</td>\n",
              "      <td>False</td>\n",
              "    </tr>\n",
              "    <tr>\n",
              "      <th>7786</th>\n",
              "      <td>False</td>\n",
              "      <td>False</td>\n",
              "      <td>False</td>\n",
              "      <td>True</td>\n",
              "      <td>False</td>\n",
              "      <td>True</td>\n",
              "      <td>False</td>\n",
              "      <td>False</td>\n",
              "      <td>False</td>\n",
              "      <td>False</td>\n",
              "      <td>False</td>\n",
              "    </tr>\n",
              "    <tr>\n",
              "      <th>7787</th>\n",
              "      <td>False</td>\n",
              "      <td>False</td>\n",
              "      <td>False</td>\n",
              "      <td>True</td>\n",
              "      <td>False</td>\n",
              "      <td>False</td>\n",
              "      <td>False</td>\n",
              "      <td>False</td>\n",
              "      <td>False</td>\n",
              "      <td>False</td>\n",
              "      <td>False</td>\n",
              "    </tr>\n",
              "    <tr>\n",
              "      <th>7788</th>\n",
              "      <td>False</td>\n",
              "      <td>False</td>\n",
              "      <td>False</td>\n",
              "      <td>False</td>\n",
              "      <td>True</td>\n",
              "      <td>False</td>\n",
              "      <td>False</td>\n",
              "      <td>False</td>\n",
              "      <td>False</td>\n",
              "      <td>False</td>\n",
              "      <td>False</td>\n",
              "    </tr>\n",
              "  </tbody>\n",
              "</table>\n",
              "<p>7787 rows × 11 columns</p>\n",
              "</div>"
            ],
            "text/plain": [
              "      Show_Id  Category  Title  Director  ...  Rating  Duration   Type  Description\n",
              "0       False     False  False      True  ...   False     False  False        False\n",
              "1       False     False  False     False  ...   False     False  False        False\n",
              "2       False     False  False     False  ...   False     False  False        False\n",
              "3       False     False  False     False  ...   False     False  False        False\n",
              "4       False     False  False     False  ...   False     False  False        False\n",
              "...       ...       ...    ...       ...  ...     ...       ...    ...          ...\n",
              "7784    False     False  False     False  ...   False     False  False        False\n",
              "7785    False     False  False     False  ...   False     False  False        False\n",
              "7786    False     False  False      True  ...   False     False  False        False\n",
              "7787    False     False  False      True  ...   False     False  False        False\n",
              "7788    False     False  False     False  ...   False     False  False        False\n",
              "\n",
              "[7787 rows x 11 columns]"
            ]
          },
          "metadata": {},
          "execution_count": 125
        }
      ]
    },
    {
      "cell_type": "code",
      "metadata": {
        "colab": {
          "base_uri": "https://localhost:8080/"
        },
        "id": "qhJv8eIQXuTN",
        "outputId": "03a8ef68-5f91-4d3c-fa6c-df01512bb1e3"
      },
      "source": [
        "data.isnull().sum()"
      ],
      "execution_count": 126,
      "outputs": [
        {
          "output_type": "execute_result",
          "data": {
            "text/plain": [
              "Show_Id            0\n",
              "Category           0\n",
              "Title              0\n",
              "Director        2388\n",
              "Cast             718\n",
              "Country          507\n",
              "Release_Date      10\n",
              "Rating             7\n",
              "Duration           0\n",
              "Type               0\n",
              "Description        0\n",
              "dtype: int64"
            ]
          },
          "metadata": {},
          "execution_count": 126
        }
      ]
    },
    {
      "cell_type": "markdown",
      "metadata": {
        "id": "63tT3sRRX4rv"
      },
      "source": [
        ""
      ]
    },
    {
      "cell_type": "code",
      "metadata": {
        "colab": {
          "base_uri": "https://localhost:8080/",
          "height": 345
        },
        "id": "piFwpt7lX2x9",
        "outputId": "9130c4e7-98e2-4086-e41a-fc39c21efac8"
      },
      "source": [
        "sns.heatmap(data.isnull())"
      ],
      "execution_count": 127,
      "outputs": [
        {
          "output_type": "execute_result",
          "data": {
            "text/plain": [
              "<matplotlib.axes._subplots.AxesSubplot at 0x7efc5fc94310>"
            ]
          },
          "metadata": {},
          "execution_count": 127
        },
        {
          "output_type": "display_data",
          "data": {
            "image/png": "[encoded data removed]",
            "text/plain": [
              "<Figure size 432x288 with 2 Axes>"
            ]
          },
          "metadata": {
            "needs_background": "light"
          }
        }
      ]
    },
    {
      "cell_type": "markdown",
      "metadata": {
        "id": "2MXEluT6YYOF"
      },
      "source": [
        "Q.1 For \"House of Cards \" What is the Show id and who is the Director of the show ?"
      ]
    },
    {
      "cell_type": "code",
      "metadata": {
        "colab": {
          "base_uri": "https://localhost:8080/",
          "height": 81
        },
        "id": "kPeql5dyYnyC",
        "outputId": "2d03f6ed-a973-4609-864f-ddf8307bc4af"
      },
      "source": [
        "data[['Show_Id','Director']][data['Title']=='House of Cards']"
      ],
      "execution_count": 128,
      "outputs": [
        {
          "output_type": "execute_result",
          "data": {
            "text/html": [
              "<div>\n",
              "<style scoped>\n",
              "    .dataframe tbody tr th:only-of-type {\n",
              "        vertical-align: middle;\n",
              "    }\n",
              "\n",
              "    .dataframe tbody tr th {\n",
              "        vertical-align: top;\n",
              "    }\n",
              "\n",
              "    .dataframe thead th {\n",
              "        text-align: right;\n",
              "    }\n",
              "</style>\n",
              "<table border=\"1\" class=\"dataframe\">\n",
              "  <thead>\n",
              "    <tr style=\"text-align: right;\">\n",
              "      <th></th>\n",
              "      <th>Show_Id</th>\n",
              "      <th>Director</th>\n",
              "    </tr>\n",
              "  </thead>\n",
              "  <tbody>\n",
              "    <tr>\n",
              "      <th>2832</th>\n",
              "      <td>s2833</td>\n",
              "      <td>Robin Wright, David Fincher, Gerald McRaney, J...</td>\n",
              "    </tr>\n",
              "  </tbody>\n",
              "</table>\n",
              "</div>"
            ],
            "text/plain": [
              "     Show_Id                                           Director\n",
              "2832   s2833  Robin Wright, David Fincher, Gerald McRaney, J..."
            ]
          },
          "metadata": {},
          "execution_count": 128
        }
      ]
    },
    {
      "cell_type": "code",
      "metadata": {
        "colab": {
          "base_uri": "https://localhost:8080/",
          "height": 81
        },
        "id": "j0RCR_LDZyhG",
        "outputId": "59f3157f-ec7b-446d-afea-75630a61ae7b"
      },
      "source": [
        "data[['Show_Id','Director']][data['Title'].isin(['House of Cards'])]"
      ],
      "execution_count": 129,
      "outputs": [
        {
          "output_type": "execute_result",
          "data": {
            "text/html": [
              "<div>\n",
              "<style scoped>\n",
              "    .dataframe tbody tr th:only-of-type {\n",
              "        vertical-align: middle;\n",
              "    }\n",
              "\n",
              "    .dataframe tbody tr th {\n",
              "        vertical-align: top;\n",
              "    }\n",
              "\n",
              "    .dataframe thead th {\n",
              "        text-align: right;\n",
              "    }\n",
              "</style>\n",
              "<table border=\"1\" class=\"dataframe\">\n",
              "  <thead>\n",
              "    <tr style=\"text-align: right;\">\n",
              "      <th></th>\n",
              "      <th>Show_Id</th>\n",
              "      <th>Director</th>\n",
              "    </tr>\n",
              "  </thead>\n",
              "  <tbody>\n",
              "    <tr>\n",
              "      <th>2832</th>\n",
              "      <td>s2833</td>\n",
              "      <td>Robin Wright, David Fincher, Gerald McRaney, J...</td>\n",
              "    </tr>\n",
              "  </tbody>\n",
              "</table>\n",
              "</div>"
            ],
            "text/plain": [
              "     Show_Id                                           Director\n",
              "2832   s2833  Robin Wright, David Fincher, Gerald McRaney, J..."
            ]
          },
          "metadata": {},
          "execution_count": 129
        }
      ]
    },
    {
      "cell_type": "code",
      "metadata": {
        "colab": {
          "base_uri": "https://localhost:8080/",
          "height": 81
        },
        "id": "k_EnCpqsaPqz",
        "outputId": "fd83c568-873b-4bf3-92d9-fed794490df4"
      },
      "source": [
        "data[['Show_Id','Director']][data['Title'].str.contains('House of Cards')]"
      ],
      "execution_count": 130,
      "outputs": [
        {
          "output_type": "execute_result",
          "data": {
            "text/html": [
              "<div>\n",
              "<style scoped>\n",
              "    .dataframe tbody tr th:only-of-type {\n",
              "        vertical-align: middle;\n",
              "    }\n",
              "\n",
              "    .dataframe tbody tr th {\n",
              "        vertical-align: top;\n",
              "    }\n",
              "\n",
              "    .dataframe thead th {\n",
              "        text-align: right;\n",
              "    }\n",
              "</style>\n",
              "<table border=\"1\" class=\"dataframe\">\n",
              "  <thead>\n",
              "    <tr style=\"text-align: right;\">\n",
              "      <th></th>\n",
              "      <th>Show_Id</th>\n",
              "      <th>Director</th>\n",
              "    </tr>\n",
              "  </thead>\n",
              "  <tbody>\n",
              "    <tr>\n",
              "      <th>2832</th>\n",
              "      <td>s2833</td>\n",
              "      <td>Robin Wright, David Fincher, Gerald McRaney, J...</td>\n",
              "    </tr>\n",
              "  </tbody>\n",
              "</table>\n",
              "</div>"
            ],
            "text/plain": [
              "     Show_Id                                           Director\n",
              "2832   s2833  Robin Wright, David Fincher, Gerald McRaney, J..."
            ]
          },
          "metadata": {},
          "execution_count": 130
        }
      ]
    },
    {
      "cell_type": "markdown",
      "metadata": {
        "id": "gDAYv7v-ZsjP"
      },
      "source": [
        "Q2. In which year highest number of the TV Shows and Movies are released ?"
      ]
    },
    {
      "cell_type": "code",
      "metadata": {
        "colab": {
          "base_uri": "https://localhost:8080/",
          "height": 328
        },
        "id": "DwmP4FKwbV6J",
        "outputId": "61991124-e2a3-4fb6-edde-a028e6d57646"
      },
      "source": [
        "data.head()"
      ],
      "execution_count": 131,
      "outputs": [
        {
          "output_type": "execute_result",
          "data": {
            "text/html": [
              "<div>\n",
              "<style scoped>\n",
              "    .dataframe tbody tr th:only-of-type {\n",
              "        vertical-align: middle;\n",
              "    }\n",
              "\n",
              "    .dataframe tbody tr th {\n",
              "        vertical-align: top;\n",
              "    }\n",
              "\n",
              "    .dataframe thead th {\n",
              "        text-align: right;\n",
              "    }\n",
              "</style>\n",
              "<table border=\"1\" class=\"dataframe\">\n",
              "  <thead>\n",
              "    <tr style=\"text-align: right;\">\n",
              "      <th></th>\n",
              "      <th>Show_Id</th>\n",
              "      <th>Category</th>\n",
              "      <th>Title</th>\n",
              "      <th>Director</th>\n",
              "      <th>Cast</th>\n",
              "      <th>Country</th>\n",
              "      <th>Release_Date</th>\n",
              "      <th>Rating</th>\n",
              "      <th>Duration</th>\n",
              "      <th>Type</th>\n",
              "      <th>Description</th>\n",
              "    </tr>\n",
              "  </thead>\n",
              "  <tbody>\n",
              "    <tr>\n",
              "      <th>0</th>\n",
              "      <td>s1</td>\n",
              "      <td>TV Show</td>\n",
              "      <td>3%</td>\n",
              "      <td>NaN</td>\n",
              "      <td>João Miguel, Bianca Comparato, Michel Gomes, R...</td>\n",
              "      <td>Brazil</td>\n",
              "      <td>August 14, 2020</td>\n",
              "      <td>TV-MA</td>\n",
              "      <td>4 Seasons</td>\n",
              "      <td>International TV Shows, TV Dramas, TV Sci-Fi &amp;...</td>\n",
              "      <td>In a future where the elite inhabit an island ...</td>\n",
              "    </tr>\n",
              "    <tr>\n",
              "      <th>1</th>\n",
              "      <td>s2</td>\n",
              "      <td>Movie</td>\n",
              "      <td>07:19</td>\n",
              "      <td>Jorge Michel Grau</td>\n",
              "      <td>Demián Bichir, Héctor Bonilla, Oscar Serrano, ...</td>\n",
              "      <td>Mexico</td>\n",
              "      <td>December 23, 2016</td>\n",
              "      <td>TV-MA</td>\n",
              "      <td>93 min</td>\n",
              "      <td>Dramas, International Movies</td>\n",
              "      <td>After a devastating earthquake hits Mexico Cit...</td>\n",
              "    </tr>\n",
              "    <tr>\n",
              "      <th>2</th>\n",
              "      <td>s3</td>\n",
              "      <td>Movie</td>\n",
              "      <td>23:59</td>\n",
              "      <td>Gilbert Chan</td>\n",
              "      <td>Tedd Chan, Stella Chung, Henley Hii, Lawrence ...</td>\n",
              "      <td>Singapore</td>\n",
              "      <td>December 20, 2018</td>\n",
              "      <td>R</td>\n",
              "      <td>78 min</td>\n",
              "      <td>Horror Movies, International Movies</td>\n",
              "      <td>When an army recruit is found dead, his fellow...</td>\n",
              "    </tr>\n",
              "    <tr>\n",
              "      <th>3</th>\n",
              "      <td>s4</td>\n",
              "      <td>Movie</td>\n",
              "      <td>9</td>\n",
              "      <td>Shane Acker</td>\n",
              "      <td>Elijah Wood, John C. Reilly, Jennifer Connelly...</td>\n",
              "      <td>United States</td>\n",
              "      <td>November 16, 2017</td>\n",
              "      <td>PG-13</td>\n",
              "      <td>80 min</td>\n",
              "      <td>Action &amp; Adventure, Independent Movies, Sci-Fi...</td>\n",
              "      <td>In a postapocalyptic world, rag-doll robots hi...</td>\n",
              "    </tr>\n",
              "    <tr>\n",
              "      <th>4</th>\n",
              "      <td>s5</td>\n",
              "      <td>Movie</td>\n",
              "      <td>21</td>\n",
              "      <td>Robert Luketic</td>\n",
              "      <td>Jim Sturgess, Kevin Spacey, Kate Bosworth, Aar...</td>\n",
              "      <td>United States</td>\n",
              "      <td>January 1, 2020</td>\n",
              "      <td>PG-13</td>\n",
              "      <td>123 min</td>\n",
              "      <td>Dramas</td>\n",
              "      <td>A brilliant group of students become card-coun...</td>\n",
              "    </tr>\n",
              "  </tbody>\n",
              "</table>\n",
              "</div>"
            ],
            "text/plain": [
              "  Show_Id  ...                                        Description\n",
              "0      s1  ...  In a future where the elite inhabit an island ...\n",
              "1      s2  ...  After a devastating earthquake hits Mexico Cit...\n",
              "2      s3  ...  When an army recruit is found dead, his fellow...\n",
              "3      s4  ...  In a postapocalyptic world, rag-doll robots hi...\n",
              "4      s5  ...  A brilliant group of students become card-coun...\n",
              "\n",
              "[5 rows x 11 columns]"
            ]
          },
          "metadata": {},
          "execution_count": 131
        }
      ]
    },
    {
      "cell_type": "code",
      "metadata": {
        "id": "0nR2MYJNbh8u"
      },
      "source": [
        "data['Date']=pd.to_datetime(data['Release_Date'])"
      ],
      "execution_count": 146,
      "outputs": []
    },
    {
      "cell_type": "code",
      "metadata": {
        "colab": {
          "base_uri": "https://localhost:8080/",
          "height": 362
        },
        "id": "bUTSBUoRcME5",
        "outputId": "5dc4173b-72c5-459c-e480-28d34ab35879"
      },
      "source": [
        "data.head()"
      ],
      "execution_count": 133,
      "outputs": [
        {
          "output_type": "execute_result",
          "data": {
            "text/html": [
              "<div>\n",
              "<style scoped>\n",
              "    .dataframe tbody tr th:only-of-type {\n",
              "        vertical-align: middle;\n",
              "    }\n",
              "\n",
              "    .dataframe tbody tr th {\n",
              "        vertical-align: top;\n",
              "    }\n",
              "\n",
              "    .dataframe thead th {\n",
              "        text-align: right;\n",
              "    }\n",
              "</style>\n",
              "<table border=\"1\" class=\"dataframe\">\n",
              "  <thead>\n",
              "    <tr style=\"text-align: right;\">\n",
              "      <th></th>\n",
              "      <th>Show_Id</th>\n",
              "      <th>Category</th>\n",
              "      <th>Title</th>\n",
              "      <th>Director</th>\n",
              "      <th>Cast</th>\n",
              "      <th>Country</th>\n",
              "      <th>Release_Date</th>\n",
              "      <th>Rating</th>\n",
              "      <th>Duration</th>\n",
              "      <th>Type</th>\n",
              "      <th>Description</th>\n",
              "      <th>Date</th>\n",
              "    </tr>\n",
              "  </thead>\n",
              "  <tbody>\n",
              "    <tr>\n",
              "      <th>0</th>\n",
              "      <td>s1</td>\n",
              "      <td>TV Show</td>\n",
              "      <td>3%</td>\n",
              "      <td>NaN</td>\n",
              "      <td>João Miguel, Bianca Comparato, Michel Gomes, R...</td>\n",
              "      <td>Brazil</td>\n",
              "      <td>August 14, 2020</td>\n",
              "      <td>TV-MA</td>\n",
              "      <td>4 Seasons</td>\n",
              "      <td>International TV Shows, TV Dramas, TV Sci-Fi &amp;...</td>\n",
              "      <td>In a future where the elite inhabit an island ...</td>\n",
              "      <td>2020-08-14</td>\n",
              "    </tr>\n",
              "    <tr>\n",
              "      <th>1</th>\n",
              "      <td>s2</td>\n",
              "      <td>Movie</td>\n",
              "      <td>07:19</td>\n",
              "      <td>Jorge Michel Grau</td>\n",
              "      <td>Demián Bichir, Héctor Bonilla, Oscar Serrano, ...</td>\n",
              "      <td>Mexico</td>\n",
              "      <td>December 23, 2016</td>\n",
              "      <td>TV-MA</td>\n",
              "      <td>93 min</td>\n",
              "      <td>Dramas, International Movies</td>\n",
              "      <td>After a devastating earthquake hits Mexico Cit...</td>\n",
              "      <td>2016-12-23</td>\n",
              "    </tr>\n",
              "    <tr>\n",
              "      <th>2</th>\n",
              "      <td>s3</td>\n",
              "      <td>Movie</td>\n",
              "      <td>23:59</td>\n",
              "      <td>Gilbert Chan</td>\n",
              "      <td>Tedd Chan, Stella Chung, Henley Hii, Lawrence ...</td>\n",
              "      <td>Singapore</td>\n",
              "      <td>December 20, 2018</td>\n",
              "      <td>R</td>\n",
              "      <td>78 min</td>\n",
              "      <td>Horror Movies, International Movies</td>\n",
              "      <td>When an army recruit is found dead, his fellow...</td>\n",
              "      <td>2018-12-20</td>\n",
              "    </tr>\n",
              "    <tr>\n",
              "      <th>3</th>\n",
              "      <td>s4</td>\n",
              "      <td>Movie</td>\n",
              "      <td>9</td>\n",
              "      <td>Shane Acker</td>\n",
              "      <td>Elijah Wood, John C. Reilly, Jennifer Connelly...</td>\n",
              "      <td>United States</td>\n",
              "      <td>November 16, 2017</td>\n",
              "      <td>PG-13</td>\n",
              "      <td>80 min</td>\n",
              "      <td>Action &amp; Adventure, Independent Movies, Sci-Fi...</td>\n",
              "      <td>In a postapocalyptic world, rag-doll robots hi...</td>\n",
              "      <td>2017-11-16</td>\n",
              "    </tr>\n",
              "    <tr>\n",
              "      <th>4</th>\n",
              "      <td>s5</td>\n",
              "      <td>Movie</td>\n",
              "      <td>21</td>\n",
              "      <td>Robert Luketic</td>\n",
              "      <td>Jim Sturgess, Kevin Spacey, Kate Bosworth, Aar...</td>\n",
              "      <td>United States</td>\n",
              "      <td>January 1, 2020</td>\n",
              "      <td>PG-13</td>\n",
              "      <td>123 min</td>\n",
              "      <td>Dramas</td>\n",
              "      <td>A brilliant group of students become card-coun...</td>\n",
              "      <td>2020-01-01</td>\n",
              "    </tr>\n",
              "  </tbody>\n",
              "</table>\n",
              "</div>"
            ],
            "text/plain": [
              "  Show_Id  ...       Date\n",
              "0      s1  ... 2020-08-14\n",
              "1      s2  ... 2016-12-23\n",
              "2      s3  ... 2018-12-20\n",
              "3      s4  ... 2017-11-16\n",
              "4      s5  ... 2020-01-01\n",
              "\n",
              "[5 rows x 12 columns]"
            ]
          },
          "metadata": {},
          "execution_count": 133
        }
      ]
    },
    {
      "cell_type": "code",
      "metadata": {
        "colab": {
          "base_uri": "https://localhost:8080/"
        },
        "id": "5-eKX1PQOrP-",
        "outputId": "5e07379e-b4e6-4eb2-e8df-99812356e594"
      },
      "source": [
        "data['Date'].dt.year.value_counts()"
      ],
      "execution_count": 147,
      "outputs": [
        {
          "output_type": "execute_result",
          "data": {
            "text/plain": [
              "2019.0    2154\n",
              "2020.0    2010\n",
              "2018.0    1685\n",
              "2017.0    1225\n",
              "2016.0     443\n",
              "2021.0     117\n",
              "2015.0      88\n",
              "2014.0      25\n",
              "2011.0      13\n",
              "2013.0      11\n",
              "2012.0       3\n",
              "2009.0       2\n",
              "2008.0       2\n",
              "2010.0       1\n",
              "Name: Date, dtype: int64"
            ]
          },
          "metadata": {},
          "execution_count": 147
        }
      ]
    },
    {
      "cell_type": "code",
      "metadata": {
        "colab": {
          "base_uri": "https://localhost:8080/"
        },
        "id": "NlHqD5nydKLp",
        "outputId": "cc991f7a-16d1-4dc7-ab8f-3669875d76c5"
      },
      "source": [
        "data['Year']=data['Date'].dt.year\n",
        "data['Year']"
      ],
      "execution_count": 148,
      "outputs": [
        {
          "output_type": "execute_result",
          "data": {
            "text/plain": [
              "0       2020.0\n",
              "1       2016.0\n",
              "2       2018.0\n",
              "3       2017.0\n",
              "4       2020.0\n",
              "         ...  \n",
              "7784    2020.0\n",
              "7785    2019.0\n",
              "7786    2020.0\n",
              "7787    2020.0\n",
              "7788    2020.0\n",
              "Name: Year, Length: 7789, dtype: float64"
            ]
          },
          "metadata": {},
          "execution_count": 148
        }
      ]
    },
    {
      "cell_type": "code",
      "metadata": {
        "colab": {
          "base_uri": "https://localhost:8080/",
          "height": 351
        },
        "id": "KDRkSFNudnLc",
        "outputId": "104b453b-1608-43c5-fa4b-d72d1a9c9dca"
      },
      "source": [
        "sns.countplot(data['Year'])"
      ],
      "execution_count": 136,
      "outputs": [
        {
          "output_type": "stream",
          "name": "stderr",
          "text": [
            "/usr/local/lib/python3.7/dist-packages/seaborn/_decorators.py:43: FutureWarning: Pass the following variable as a keyword arg: x. From version 0.12, the only valid positional argument will be `data`, and passing other arguments without an explicit keyword will result in an error or misinterpretation.\n",
            "  FutureWarning\n"
          ]
        },
        {
          "output_type": "execute_result",
          "data": {
            "text/plain": [
              "<matplotlib.axes._subplots.AxesSubplot at 0x7efc5fc94810>"
            ]
          },
          "metadata": {},
          "execution_count": 136
        },
        {
          "output_type": "display_data",
          "data": {
            "image/png": "[encoded data removed]",
            "text/plain": [
              "<Figure size 432x288 with 1 Axes>"
            ]
          },
          "metadata": {
            "needs_background": "light"
          }
        }
      ]
    },
    {
      "cell_type": "code",
      "metadata": {
        "colab": {
          "base_uri": "https://localhost:8080/",
          "height": 290
        },
        "id": "vnMlTZcAPr0s",
        "outputId": "29e41497-ec56-42c8-e33d-5e165694509d"
      },
      "source": [
        "data=data['Date'].dt.year.value_counts().plot(kind='bar')"
      ],
      "execution_count": 137,
      "outputs": [
        {
          "output_type": "display_data",
          "data": {
            "image/png": "[encoded data removed]",
            "text/plain": [
              "<Figure size 432x288 with 1 Axes>"
            ]
          },
          "metadata": {
            "needs_background": "light"
          }
        }
      ]
    },
    {
      "cell_type": "markdown",
      "metadata": {
        "id": "VhtgKHX1Rmp2"
      },
      "source": [
        "Q3. How many Movies and TV shows are in the dataset ?"
      ]
    },
    {
      "cell_type": "code",
      "metadata": {
        "colab": {
          "base_uri": "https://localhost:8080/"
        },
        "id": "EfG6fdPLRyDG",
        "outputId": "4a3e75d5-5e14-4d5d-958d-e8ea843d798e"
      },
      "source": [
        "data.groupby('Category')['Category'].count()"
      ],
      "execution_count": 142,
      "outputs": [
        {
          "output_type": "execute_result",
          "data": {
            "text/plain": [
              "Category\n",
              "Movie      5379\n",
              "TV Show    2410\n",
              "Name: Category, dtype: int64"
            ]
          },
          "metadata": {},
          "execution_count": 142
        }
      ]
    },
    {
      "cell_type": "code",
      "metadata": {
        "colab": {
          "base_uri": "https://localhost:8080/",
          "height": 351
        },
        "id": "QNCv8jeDYK_h",
        "outputId": "6fe0d55a-ce36-401c-d8ad-def7e8e1b8f2"
      },
      "source": [
        "sns.countplot(data['Category'])"
      ],
      "execution_count": 143,
      "outputs": [
        {
          "output_type": "stream",
          "name": "stderr",
          "text": [
            "/usr/local/lib/python3.7/dist-packages/seaborn/_decorators.py:43: FutureWarning: Pass the following variable as a keyword arg: x. From version 0.12, the only valid positional argument will be `data`, and passing other arguments without an explicit keyword will result in an error or misinterpretation.\n",
            "  FutureWarning\n"
          ]
        },
        {
          "output_type": "execute_result",
          "data": {
            "text/plain": [
              "<matplotlib.axes._subplots.AxesSubplot at 0x7efc5f7f9210>"
            ]
          },
          "metadata": {},
          "execution_count": 143
        },
        {
          "output_type": "display_data",
          "data": {
            "image/png": "[encoded data removed]",
            "text/plain": [
              "<Figure size 432x288 with 1 Axes>"
            ]
          },
          "metadata": {
            "needs_background": "light"
          }
        }
      ]
    },
    {
      "cell_type": "markdown",
      "metadata": {
        "id": "IiEjvFXtYKQn"
      },
      "source": [
        "Q4. Show all the Movies that were released in year 2020"
      ]
    },
    {
      "cell_type": "code",
      "metadata": {
        "colab": {
          "base_uri": "https://localhost:8080/"
        },
        "id": "vqZH24pZeWFX",
        "outputId": "9e643428-2c9d-4077-ef33-e19daa12c832"
      },
      "source": [
        "data['Title'][(data['Year']==2020) & (data['Category']=='Movie')]"
      ],
      "execution_count": 161,
      "outputs": [
        {
          "output_type": "execute_result",
          "data": {
            "text/plain": [
              "4                                            21\n",
              "6                                           122\n",
              "14                                         3022\n",
              "27                                       #Alive\n",
              "28                #AnneFrank - Parallel Stories\n",
              "                         ...                   \n",
              "7762                                  Zaki Chan\n",
              "7783                                       Zoom\n",
              "7784                                       Zozo\n",
              "7786                          Zulu Man in Japan\n",
              "7788    ZZ TOP: THAT LITTLE OL' BAND FROM TEXAS\n",
              "Name: Title, Length: 1313, dtype: object"
            ]
          },
          "metadata": {},
          "execution_count": 161
        }
      ]
    },
    {
      "cell_type": "markdown",
      "metadata": {
        "id": "WTxun9DBkETy"
      },
      "source": [
        "Q5. Show only the Titlt of all TV Shows that were released in India only"
      ]
    },
    {
      "cell_type": "code",
      "metadata": {
        "colab": {
          "base_uri": "https://localhost:8080/",
          "height": 380
        },
        "id": "Am-ljLIskASe",
        "outputId": "02167c59-078d-4393-b95c-f7c086732148"
      },
      "source": [
        "data.head()"
      ],
      "execution_count": 162,
      "outputs": [
        {
          "output_type": "execute_result",
          "data": {
            "text/html": [
              "<div>\n",
              "<style scoped>\n",
              "    .dataframe tbody tr th:only-of-type {\n",
              "        vertical-align: middle;\n",
              "    }\n",
              "\n",
              "    .dataframe tbody tr th {\n",
              "        vertical-align: top;\n",
              "    }\n",
              "\n",
              "    .dataframe thead th {\n",
              "        text-align: right;\n",
              "    }\n",
              "</style>\n",
              "<table border=\"1\" class=\"dataframe\">\n",
              "  <thead>\n",
              "    <tr style=\"text-align: right;\">\n",
              "      <th></th>\n",
              "      <th>Show_Id</th>\n",
              "      <th>Category</th>\n",
              "      <th>Title</th>\n",
              "      <th>Director</th>\n",
              "      <th>Cast</th>\n",
              "      <th>Country</th>\n",
              "      <th>Release_Date</th>\n",
              "      <th>Rating</th>\n",
              "      <th>Duration</th>\n",
              "      <th>Type</th>\n",
              "      <th>Description</th>\n",
              "      <th>Date</th>\n",
              "      <th>Year</th>\n",
              "    </tr>\n",
              "  </thead>\n",
              "  <tbody>\n",
              "    <tr>\n",
              "      <th>0</th>\n",
              "      <td>s1</td>\n",
              "      <td>TV Show</td>\n",
              "      <td>3%</td>\n",
              "      <td>NaN</td>\n",
              "      <td>João Miguel, Bianca Comparato, Michel Gomes, R...</td>\n",
              "      <td>Brazil</td>\n",
              "      <td>August 14, 2020</td>\n",
              "      <td>TV-MA</td>\n",
              "      <td>4 Seasons</td>\n",
              "      <td>International TV Shows, TV Dramas, TV Sci-Fi &amp;...</td>\n",
              "      <td>In a future where the elite inhabit an island ...</td>\n",
              "      <td>2020-08-14</td>\n",
              "      <td>2020.0</td>\n",
              "    </tr>\n",
              "    <tr>\n",
              "      <th>1</th>\n",
              "      <td>s2</td>\n",
              "      <td>Movie</td>\n",
              "      <td>07:19</td>\n",
              "      <td>Jorge Michel Grau</td>\n",
              "      <td>Demián Bichir, Héctor Bonilla, Oscar Serrano, ...</td>\n",
              "      <td>Mexico</td>\n",
              "      <td>December 23, 2016</td>\n",
              "      <td>TV-MA</td>\n",
              "      <td>93 min</td>\n",
              "      <td>Dramas, International Movies</td>\n",
              "      <td>After a devastating earthquake hits Mexico Cit...</td>\n",
              "      <td>2016-12-23</td>\n",
              "      <td>2016.0</td>\n",
              "    </tr>\n",
              "    <tr>\n",
              "      <th>2</th>\n",
              "      <td>s3</td>\n",
              "      <td>Movie</td>\n",
              "      <td>23:59</td>\n",
              "      <td>Gilbert Chan</td>\n",
              "      <td>Tedd Chan, Stella Chung, Henley Hii, Lawrence ...</td>\n",
              "      <td>Singapore</td>\n",
              "      <td>December 20, 2018</td>\n",
              "      <td>R</td>\n",
              "      <td>78 min</td>\n",
              "      <td>Horror Movies, International Movies</td>\n",
              "      <td>When an army recruit is found dead, his fellow...</td>\n",
              "      <td>2018-12-20</td>\n",
              "      <td>2018.0</td>\n",
              "    </tr>\n",
              "    <tr>\n",
              "      <th>3</th>\n",
              "      <td>s4</td>\n",
              "      <td>Movie</td>\n",
              "      <td>9</td>\n",
              "      <td>Shane Acker</td>\n",
              "      <td>Elijah Wood, John C. Reilly, Jennifer Connelly...</td>\n",
              "      <td>United States</td>\n",
              "      <td>November 16, 2017</td>\n",
              "      <td>PG-13</td>\n",
              "      <td>80 min</td>\n",
              "      <td>Action &amp; Adventure, Independent Movies, Sci-Fi...</td>\n",
              "      <td>In a postapocalyptic world, rag-doll robots hi...</td>\n",
              "      <td>2017-11-16</td>\n",
              "      <td>2017.0</td>\n",
              "    </tr>\n",
              "    <tr>\n",
              "      <th>4</th>\n",
              "      <td>s5</td>\n",
              "      <td>Movie</td>\n",
              "      <td>21</td>\n",
              "      <td>Robert Luketic</td>\n",
              "      <td>Jim Sturgess, Kevin Spacey, Kate Bosworth, Aar...</td>\n",
              "      <td>United States</td>\n",
              "      <td>January 1, 2020</td>\n",
              "      <td>PG-13</td>\n",
              "      <td>123 min</td>\n",
              "      <td>Dramas</td>\n",
              "      <td>A brilliant group of students become card-coun...</td>\n",
              "      <td>2020-01-01</td>\n",
              "      <td>2020.0</td>\n",
              "    </tr>\n",
              "  </tbody>\n",
              "</table>\n",
              "</div>"
            ],
            "text/plain": [
              "  Show_Id Category  ...       Date    Year\n",
              "0      s1  TV Show  ... 2020-08-14  2020.0\n",
              "1      s2    Movie  ... 2016-12-23  2016.0\n",
              "2      s3    Movie  ... 2018-12-20  2018.0\n",
              "3      s4    Movie  ... 2017-11-16  2017.0\n",
              "4      s5    Movie  ... 2020-01-01  2020.0\n",
              "\n",
              "[5 rows x 13 columns]"
            ]
          },
          "metadata": {},
          "execution_count": 162
        }
      ]
    },
    {
      "cell_type": "code",
      "metadata": {
        "colab": {
          "base_uri": "https://localhost:8080/"
        },
        "id": "vM580kqoktXL",
        "outputId": "39f97fda-fbd6-4998-e65d-46d6fec52993"
      },
      "source": [
        "data['Title'][(data['Country']=='India') & (data['Category']=='TV Show')]"
      ],
      "execution_count": 165,
      "outputs": [
        {
          "output_type": "execute_result",
          "data": {
            "text/plain": [
              "86            21 Sarfarosh: Saragarhi 1897\n",
              "132                              7 (Seven)\n",
              "340                           Agent Raghav\n",
              "364                           Akbar Birbal\n",
              "533                    Anjaan: Rural Myths\n",
              "                       ...                \n",
              "6249                  The Creative Indians\n",
              "6400    The Golden Years with Javed Akhtar\n",
              "6469                The House That Made Me\n",
              "7294                            Typewriter\n",
              "7705                       Yeh Meri Family\n",
              "Name: Title, Length: 71, dtype: object"
            ]
          },
          "metadata": {},
          "execution_count": 165
        }
      ]
    },
    {
      "cell_type": "code",
      "metadata": {
        "id": "QSD-G1B5l1l-"
      },
      "source": [
        ""
      ],
      "execution_count": null,
      "outputs": []
    },
    {
      "cell_type": "markdown",
      "metadata": {
        "id": "Kx0uAOH8mTuE"
      },
      "source": [
        "Q6. Show top 10 Director who gave the highest number of TV Shows and Movies to Netflix"
      ]
    },
    {
      "cell_type": "code",
      "metadata": {
        "colab": {
          "base_uri": "https://localhost:8080/",
          "height": 380
        },
        "id": "KNfFrIlImuLC",
        "outputId": "6b256903-56ee-4617-c762-b7b084125c94"
      },
      "source": [
        "data.head()"
      ],
      "execution_count": 166,
      "outputs": [
        {
          "output_type": "execute_result",
          "data": {
            "text/html": [
              "<div>\n",
              "<style scoped>\n",
              "    .dataframe tbody tr th:only-of-type {\n",
              "        vertical-align: middle;\n",
              "    }\n",
              "\n",
              "    .dataframe tbody tr th {\n",
              "        vertical-align: top;\n",
              "    }\n",
              "\n",
              "    .dataframe thead th {\n",
              "        text-align: right;\n",
              "    }\n",
              "</style>\n",
              "<table border=\"1\" class=\"dataframe\">\n",
              "  <thead>\n",
              "    <tr style=\"text-align: right;\">\n",
              "      <th></th>\n",
              "      <th>Show_Id</th>\n",
              "      <th>Category</th>\n",
              "      <th>Title</th>\n",
              "      <th>Director</th>\n",
              "      <th>Cast</th>\n",
              "      <th>Country</th>\n",
              "      <th>Release_Date</th>\n",
              "      <th>Rating</th>\n",
              "      <th>Duration</th>\n",
              "      <th>Type</th>\n",
              "      <th>Description</th>\n",
              "      <th>Date</th>\n",
              "      <th>Year</th>\n",
              "    </tr>\n",
              "  </thead>\n",
              "  <tbody>\n",
              "    <tr>\n",
              "      <th>0</th>\n",
              "      <td>s1</td>\n",
              "      <td>TV Show</td>\n",
              "      <td>3%</td>\n",
              "      <td>NaN</td>\n",
              "      <td>João Miguel, Bianca Comparato, Michel Gomes, R...</td>\n",
              "      <td>Brazil</td>\n",
              "      <td>August 14, 2020</td>\n",
              "      <td>TV-MA</td>\n",
              "      <td>4 Seasons</td>\n",
              "      <td>International TV Shows, TV Dramas, TV Sci-Fi &amp;...</td>\n",
              "      <td>In a future where the elite inhabit an island ...</td>\n",
              "      <td>2020-08-14</td>\n",
              "      <td>2020.0</td>\n",
              "    </tr>\n",
              "    <tr>\n",
              "      <th>1</th>\n",
              "      <td>s2</td>\n",
              "      <td>Movie</td>\n",
              "      <td>07:19</td>\n",
              "      <td>Jorge Michel Grau</td>\n",
              "      <td>Demián Bichir, Héctor Bonilla, Oscar Serrano, ...</td>\n",
              "      <td>Mexico</td>\n",
              "      <td>December 23, 2016</td>\n",
              "      <td>TV-MA</td>\n",
              "      <td>93 min</td>\n",
              "      <td>Dramas, International Movies</td>\n",
              "      <td>After a devastating earthquake hits Mexico Cit...</td>\n",
              "      <td>2016-12-23</td>\n",
              "      <td>2016.0</td>\n",
              "    </tr>\n",
              "    <tr>\n",
              "      <th>2</th>\n",
              "      <td>s3</td>\n",
              "      <td>Movie</td>\n",
              "      <td>23:59</td>\n",
              "      <td>Gilbert Chan</td>\n",
              "      <td>Tedd Chan, Stella Chung, Henley Hii, Lawrence ...</td>\n",
              "      <td>Singapore</td>\n",
              "      <td>December 20, 2018</td>\n",
              "      <td>R</td>\n",
              "      <td>78 min</td>\n",
              "      <td>Horror Movies, International Movies</td>\n",
              "      <td>When an army recruit is found dead, his fellow...</td>\n",
              "      <td>2018-12-20</td>\n",
              "      <td>2018.0</td>\n",
              "    </tr>\n",
              "    <tr>\n",
              "      <th>3</th>\n",
              "      <td>s4</td>\n",
              "      <td>Movie</td>\n",
              "      <td>9</td>\n",
              "      <td>Shane Acker</td>\n",
              "      <td>Elijah Wood, John C. Reilly, Jennifer Connelly...</td>\n",
              "      <td>United States</td>\n",
              "      <td>November 16, 2017</td>\n",
              "      <td>PG-13</td>\n",
              "      <td>80 min</td>\n",
              "      <td>Action &amp; Adventure, Independent Movies, Sci-Fi...</td>\n",
              "      <td>In a postapocalyptic world, rag-doll robots hi...</td>\n",
              "      <td>2017-11-16</td>\n",
              "      <td>2017.0</td>\n",
              "    </tr>\n",
              "    <tr>\n",
              "      <th>4</th>\n",
              "      <td>s5</td>\n",
              "      <td>Movie</td>\n",
              "      <td>21</td>\n",
              "      <td>Robert Luketic</td>\n",
              "      <td>Jim Sturgess, Kevin Spacey, Kate Bosworth, Aar...</td>\n",
              "      <td>United States</td>\n",
              "      <td>January 1, 2020</td>\n",
              "      <td>PG-13</td>\n",
              "      <td>123 min</td>\n",
              "      <td>Dramas</td>\n",
              "      <td>A brilliant group of students become card-coun...</td>\n",
              "      <td>2020-01-01</td>\n",
              "      <td>2020.0</td>\n",
              "    </tr>\n",
              "  </tbody>\n",
              "</table>\n",
              "</div>"
            ],
            "text/plain": [
              "  Show_Id Category  ...       Date    Year\n",
              "0      s1  TV Show  ... 2020-08-14  2020.0\n",
              "1      s2    Movie  ... 2016-12-23  2016.0\n",
              "2      s3    Movie  ... 2018-12-20  2018.0\n",
              "3      s4    Movie  ... 2017-11-16  2017.0\n",
              "4      s5    Movie  ... 2020-01-01  2020.0\n",
              "\n",
              "[5 rows x 13 columns]"
            ]
          },
          "metadata": {},
          "execution_count": 166
        }
      ]
    },
    {
      "cell_type": "code",
      "metadata": {
        "colab": {
          "base_uri": "https://localhost:8080/"
        },
        "id": "cPFC-zywmxqe",
        "outputId": "ce56c76b-9d54-46e9-aeee-8bc1faf1aceb"
      },
      "source": [
        "data['Director'].value_counts().head(10)"
      ],
      "execution_count": 170,
      "outputs": [
        {
          "output_type": "execute_result",
          "data": {
            "text/plain": [
              "Raúl Campos, Jan Suter    18\n",
              "Marcus Raboy              16\n",
              "Jay Karas                 14\n",
              "Cathy Garcia-Molina       13\n",
              "Youssef Chahine           12\n",
              "Jay Chapman               12\n",
              "Martin Scorsese           12\n",
              "Steven Spielberg          10\n",
              "David Dhawan               9\n",
              "Ryan Polito                8\n",
              "Name: Director, dtype: int64"
            ]
          },
          "metadata": {},
          "execution_count": 170
        }
      ]
    },
    {
      "cell_type": "markdown",
      "metadata": {
        "id": "3m3DZHB9mpWd"
      },
      "source": [
        "Q7. Show all the Recodes,where \"Category is Movies and Type is Comedies\" or \"Country is United Kingdom\""
      ]
    },
    {
      "cell_type": "code",
      "metadata": {
        "colab": {
          "base_uri": "https://localhost:8080/",
          "height": 182
        },
        "id": "zZ3Pv040n0ER",
        "outputId": "7a630295-a896-4c9f-e190-1eb426e2e9c3"
      },
      "source": [
        "data.head(2)"
      ],
      "execution_count": 178,
      "outputs": [
        {
          "output_type": "execute_result",
          "data": {
            "text/html": [
              "<div>\n",
              "<style scoped>\n",
              "    .dataframe tbody tr th:only-of-type {\n",
              "        vertical-align: middle;\n",
              "    }\n",
              "\n",
              "    .dataframe tbody tr th {\n",
              "        vertical-align: top;\n",
              "    }\n",
              "\n",
              "    .dataframe thead th {\n",
              "        text-align: right;\n",
              "    }\n",
              "</style>\n",
              "<table border=\"1\" class=\"dataframe\">\n",
              "  <thead>\n",
              "    <tr style=\"text-align: right;\">\n",
              "      <th></th>\n",
              "      <th>Show_Id</th>\n",
              "      <th>Category</th>\n",
              "      <th>Title</th>\n",
              "      <th>Director</th>\n",
              "      <th>Cast</th>\n",
              "      <th>Country</th>\n",
              "      <th>Release_Date</th>\n",
              "      <th>Rating</th>\n",
              "      <th>Duration</th>\n",
              "      <th>Type</th>\n",
              "      <th>Description</th>\n",
              "      <th>Date</th>\n",
              "      <th>Year</th>\n",
              "    </tr>\n",
              "  </thead>\n",
              "  <tbody>\n",
              "    <tr>\n",
              "      <th>0</th>\n",
              "      <td>s1</td>\n",
              "      <td>TV Show</td>\n",
              "      <td>3%</td>\n",
              "      <td>NaN</td>\n",
              "      <td>João Miguel, Bianca Comparato, Michel Gomes, R...</td>\n",
              "      <td>Brazil</td>\n",
              "      <td>August 14, 2020</td>\n",
              "      <td>TV-MA</td>\n",
              "      <td>4 Seasons</td>\n",
              "      <td>International TV Shows, TV Dramas, TV Sci-Fi &amp;...</td>\n",
              "      <td>In a future where the elite inhabit an island ...</td>\n",
              "      <td>2020-08-14</td>\n",
              "      <td>2020.0</td>\n",
              "    </tr>\n",
              "    <tr>\n",
              "      <th>1</th>\n",
              "      <td>s2</td>\n",
              "      <td>Movie</td>\n",
              "      <td>07:19</td>\n",
              "      <td>Jorge Michel Grau</td>\n",
              "      <td>Demián Bichir, Héctor Bonilla, Oscar Serrano, ...</td>\n",
              "      <td>Mexico</td>\n",
              "      <td>December 23, 2016</td>\n",
              "      <td>TV-MA</td>\n",
              "      <td>93 min</td>\n",
              "      <td>Dramas, International Movies</td>\n",
              "      <td>After a devastating earthquake hits Mexico Cit...</td>\n",
              "      <td>2016-12-23</td>\n",
              "      <td>2016.0</td>\n",
              "    </tr>\n",
              "  </tbody>\n",
              "</table>\n",
              "</div>"
            ],
            "text/plain": [
              "  Show_Id Category  ...       Date    Year\n",
              "0      s1  TV Show  ... 2020-08-14  2020.0\n",
              "1      s2    Movie  ... 2016-12-23  2016.0\n",
              "\n",
              "[2 rows x 13 columns]"
            ]
          },
          "metadata": {},
          "execution_count": 178
        }
      ]
    },
    {
      "cell_type": "code",
      "metadata": {
        "colab": {
          "base_uri": "https://localhost:8080/",
          "height": 788
        },
        "id": "edn69U8usful",
        "outputId": "01ed9d37-46a3-4c23-d106-1c5a634d1d8b"
      },
      "source": [
        "data[(data['Category']=='Movie') & (data['Type']=='Comedies') | (data['Country']=='United Kingdom')]"
      ],
      "execution_count": 180,
      "outputs": [
        {
          "output_type": "execute_result",
          "data": {
            "text/html": [
              "<div>\n",
              "<style scoped>\n",
              "    .dataframe tbody tr th:only-of-type {\n",
              "        vertical-align: middle;\n",
              "    }\n",
              "\n",
              "    .dataframe tbody tr th {\n",
              "        vertical-align: top;\n",
              "    }\n",
              "\n",
              "    .dataframe thead th {\n",
              "        text-align: right;\n",
              "    }\n",
              "</style>\n",
              "<table border=\"1\" class=\"dataframe\">\n",
              "  <thead>\n",
              "    <tr style=\"text-align: right;\">\n",
              "      <th></th>\n",
              "      <th>Show_Id</th>\n",
              "      <th>Category</th>\n",
              "      <th>Title</th>\n",
              "      <th>Director</th>\n",
              "      <th>Cast</th>\n",
              "      <th>Country</th>\n",
              "      <th>Release_Date</th>\n",
              "      <th>Rating</th>\n",
              "      <th>Duration</th>\n",
              "      <th>Type</th>\n",
              "      <th>Description</th>\n",
              "      <th>Date</th>\n",
              "      <th>Year</th>\n",
              "    </tr>\n",
              "  </thead>\n",
              "  <tbody>\n",
              "    <tr>\n",
              "      <th>19</th>\n",
              "      <td>s20</td>\n",
              "      <td>Movie</td>\n",
              "      <td>'89</td>\n",
              "      <td>NaN</td>\n",
              "      <td>Lee Dixon, Ian Wright, Paul Merson</td>\n",
              "      <td>United Kingdom</td>\n",
              "      <td>May 16, 2018</td>\n",
              "      <td>TV-PG</td>\n",
              "      <td>87 min</td>\n",
              "      <td>Sports Movies</td>\n",
              "      <td>Mixing old footage with interviews, this is th...</td>\n",
              "      <td>2018-05-16</td>\n",
              "      <td>2018.0</td>\n",
              "    </tr>\n",
              "    <tr>\n",
              "      <th>33</th>\n",
              "      <td>s34</td>\n",
              "      <td>Movie</td>\n",
              "      <td>#realityhigh</td>\n",
              "      <td>Fernando Lebrija</td>\n",
              "      <td>Nesta Cooper, Kate Walsh, John Michael Higgins...</td>\n",
              "      <td>United States</td>\n",
              "      <td>September 8, 2017</td>\n",
              "      <td>TV-14</td>\n",
              "      <td>99 min</td>\n",
              "      <td>Comedies</td>\n",
              "      <td>When nerdy high schooler Dani finally attracts...</td>\n",
              "      <td>2017-09-08</td>\n",
              "      <td>2017.0</td>\n",
              "    </tr>\n",
              "    <tr>\n",
              "      <th>58</th>\n",
              "      <td>s59</td>\n",
              "      <td>TV Show</td>\n",
              "      <td>100% Hotter</td>\n",
              "      <td>NaN</td>\n",
              "      <td>Daniel Palmer, Melissa Sophia, Karen Williams,...</td>\n",
              "      <td>United Kingdom</td>\n",
              "      <td>November 1, 2019</td>\n",
              "      <td>TV-14</td>\n",
              "      <td>1 Season</td>\n",
              "      <td>British TV Shows, International TV Shows, Real...</td>\n",
              "      <td>A stylist, a hair designer and a makeup artist...</td>\n",
              "      <td>2019-11-01</td>\n",
              "      <td>2019.0</td>\n",
              "    </tr>\n",
              "    <tr>\n",
              "      <th>72</th>\n",
              "      <td>s73</td>\n",
              "      <td>Movie</td>\n",
              "      <td>17 Again</td>\n",
              "      <td>Burr Steers</td>\n",
              "      <td>Zac Efron, Leslie Mann, Matthew Perry, Thomas ...</td>\n",
              "      <td>United States</td>\n",
              "      <td>January 1, 2021</td>\n",
              "      <td>PG-13</td>\n",
              "      <td>102 min</td>\n",
              "      <td>Comedies</td>\n",
              "      <td>Nearing a midlife crisis, thirty-something Mik...</td>\n",
              "      <td>2021-01-01</td>\n",
              "      <td>2021.0</td>\n",
              "    </tr>\n",
              "    <tr>\n",
              "      <th>82</th>\n",
              "      <td>s83</td>\n",
              "      <td>Movie</td>\n",
              "      <td>2036 Origin Unknown</td>\n",
              "      <td>Hasraf Dulull</td>\n",
              "      <td>Katee Sackhoff, Ray Fearon, Julie Cox, Steven ...</td>\n",
              "      <td>United Kingdom</td>\n",
              "      <td>December 20, 2018</td>\n",
              "      <td>TV-14</td>\n",
              "      <td>95 min</td>\n",
              "      <td>Sci-Fi &amp; Fantasy</td>\n",
              "      <td>Working with an artificial intelligence to inv...</td>\n",
              "      <td>2018-12-20</td>\n",
              "      <td>2018.0</td>\n",
              "    </tr>\n",
              "    <tr>\n",
              "      <th>...</th>\n",
              "      <td>...</td>\n",
              "      <td>...</td>\n",
              "      <td>...</td>\n",
              "      <td>...</td>\n",
              "      <td>...</td>\n",
              "      <td>...</td>\n",
              "      <td>...</td>\n",
              "      <td>...</td>\n",
              "      <td>...</td>\n",
              "      <td>...</td>\n",
              "      <td>...</td>\n",
              "      <td>...</td>\n",
              "      <td>...</td>\n",
              "    </tr>\n",
              "    <tr>\n",
              "      <th>7670</th>\n",
              "      <td>s7669</td>\n",
              "      <td>TV Show</td>\n",
              "      <td>World War II in Colour</td>\n",
              "      <td>NaN</td>\n",
              "      <td>Robert Powell</td>\n",
              "      <td>United Kingdom</td>\n",
              "      <td>August 1, 2017</td>\n",
              "      <td>TV-MA</td>\n",
              "      <td>1 Season</td>\n",
              "      <td>British TV Shows, Docuseries, International TV...</td>\n",
              "      <td>Footage of the most dramatic moments from Worl...</td>\n",
              "      <td>2017-08-01</td>\n",
              "      <td>2017.0</td>\n",
              "    </tr>\n",
              "    <tr>\n",
              "      <th>7671</th>\n",
              "      <td>s7670</td>\n",
              "      <td>TV Show</td>\n",
              "      <td>World's Busiest Cities</td>\n",
              "      <td>NaN</td>\n",
              "      <td>Anita Rani, Ade Adepitan, Dan Snow</td>\n",
              "      <td>United Kingdom</td>\n",
              "      <td>February 1, 2019</td>\n",
              "      <td>TV-PG</td>\n",
              "      <td>1 Season</td>\n",
              "      <td>British TV Shows, Docuseries</td>\n",
              "      <td>From Moscow to Mexico City, three BBC journali...</td>\n",
              "      <td>2019-02-01</td>\n",
              "      <td>2019.0</td>\n",
              "    </tr>\n",
              "    <tr>\n",
              "      <th>7688</th>\n",
              "      <td>s7687</td>\n",
              "      <td>Movie</td>\n",
              "      <td>XV: Beyond the Tryline</td>\n",
              "      <td>Pierre Deschamps</td>\n",
              "      <td>NaN</td>\n",
              "      <td>United Kingdom</td>\n",
              "      <td>March 18, 2020</td>\n",
              "      <td>TV-14</td>\n",
              "      <td>91 min</td>\n",
              "      <td>Documentaries, Sports Movies</td>\n",
              "      <td>Set against the 2015 Rugby World Cup, this doc...</td>\n",
              "      <td>2020-03-18</td>\n",
              "      <td>2020.0</td>\n",
              "    </tr>\n",
              "    <tr>\n",
              "      <th>7725</th>\n",
              "      <td>s7724</td>\n",
              "      <td>Movie</td>\n",
              "      <td>You Can Tutu</td>\n",
              "      <td>James Brown</td>\n",
              "      <td>Lily O'Regan, Jeannettsy Enriquez Borges, Joel...</td>\n",
              "      <td>United Kingdom</td>\n",
              "      <td>December 31, 2017</td>\n",
              "      <td>TV-G</td>\n",
              "      <td>87 min</td>\n",
              "      <td>Children &amp; Family Movies</td>\n",
              "      <td>A gifted young ballet dancer struggles to find...</td>\n",
              "      <td>2017-12-31</td>\n",
              "      <td>2017.0</td>\n",
              "    </tr>\n",
              "    <tr>\n",
              "      <th>7740</th>\n",
              "      <td>s7739</td>\n",
              "      <td>TV Show</td>\n",
              "      <td>Young Wallander</td>\n",
              "      <td>NaN</td>\n",
              "      <td>Adam Pålsson, Richard Dillane, Leanne Best, El...</td>\n",
              "      <td>United Kingdom</td>\n",
              "      <td>September 3, 2020</td>\n",
              "      <td>TV-MA</td>\n",
              "      <td>1 Season</td>\n",
              "      <td>Crime TV Shows, International TV Shows, TV Dramas</td>\n",
              "      <td>An incendiary hate crime stirs civil unrest, f...</td>\n",
              "      <td>2020-09-03</td>\n",
              "      <td>2020.0</td>\n",
              "    </tr>\n",
              "  </tbody>\n",
              "</table>\n",
              "<p>485 rows × 13 columns</p>\n",
              "</div>"
            ],
            "text/plain": [
              "     Show_Id Category  ...       Date    Year\n",
              "19       s20    Movie  ... 2018-05-16  2018.0\n",
              "33       s34    Movie  ... 2017-09-08  2017.0\n",
              "58       s59  TV Show  ... 2019-11-01  2019.0\n",
              "72       s73    Movie  ... 2021-01-01  2021.0\n",
              "82       s83    Movie  ... 2018-12-20  2018.0\n",
              "...      ...      ...  ...        ...     ...\n",
              "7670   s7669  TV Show  ... 2017-08-01  2017.0\n",
              "7671   s7670  TV Show  ... 2019-02-01  2019.0\n",
              "7688   s7687    Movie  ... 2020-03-18  2020.0\n",
              "7725   s7724    Movie  ... 2017-12-31  2017.0\n",
              "7740   s7739  TV Show  ... 2020-09-03  2020.0\n",
              "\n",
              "[485 rows x 13 columns]"
            ]
          },
          "metadata": {},
          "execution_count": 180
        }
      ]
    },
    {
      "cell_type": "markdown",
      "metadata": {
        "id": "A-G1fTCau1I9"
      },
      "source": [
        "Q8. In How many Movies/Shows Tom Cruise was cast  ?"
      ]
    },
    {
      "cell_type": "code",
      "metadata": {
        "colab": {
          "base_uri": "https://localhost:8080/",
          "height": 380
        },
        "id": "YHXIU7ZBvA9I",
        "outputId": "cb6a85c0-6094-4a87-aa9a-b6fb27d7b2a6"
      },
      "source": [
        "data.head()"
      ],
      "execution_count": 186,
      "outputs": [
        {
          "output_type": "execute_result",
          "data": {
            "text/html": [
              "<div>\n",
              "<style scoped>\n",
              "    .dataframe tbody tr th:only-of-type {\n",
              "        vertical-align: middle;\n",
              "    }\n",
              "\n",
              "    .dataframe tbody tr th {\n",
              "        vertical-align: top;\n",
              "    }\n",
              "\n",
              "    .dataframe thead th {\n",
              "        text-align: right;\n",
              "    }\n",
              "</style>\n",
              "<table border=\"1\" class=\"dataframe\">\n",
              "  <thead>\n",
              "    <tr style=\"text-align: right;\">\n",
              "      <th></th>\n",
              "      <th>Show_Id</th>\n",
              "      <th>Category</th>\n",
              "      <th>Title</th>\n",
              "      <th>Director</th>\n",
              "      <th>Cast</th>\n",
              "      <th>Country</th>\n",
              "      <th>Release_Date</th>\n",
              "      <th>Rating</th>\n",
              "      <th>Duration</th>\n",
              "      <th>Type</th>\n",
              "      <th>Description</th>\n",
              "      <th>Date</th>\n",
              "      <th>Year</th>\n",
              "    </tr>\n",
              "  </thead>\n",
              "  <tbody>\n",
              "    <tr>\n",
              "      <th>0</th>\n",
              "      <td>s1</td>\n",
              "      <td>TV Show</td>\n",
              "      <td>3%</td>\n",
              "      <td>NaN</td>\n",
              "      <td>João Miguel, Bianca Comparato, Michel Gomes, R...</td>\n",
              "      <td>Brazil</td>\n",
              "      <td>August 14, 2020</td>\n",
              "      <td>TV-MA</td>\n",
              "      <td>4 Seasons</td>\n",
              "      <td>International TV Shows, TV Dramas, TV Sci-Fi &amp;...</td>\n",
              "      <td>In a future where the elite inhabit an island ...</td>\n",
              "      <td>2020-08-14</td>\n",
              "      <td>2020.0</td>\n",
              "    </tr>\n",
              "    <tr>\n",
              "      <th>1</th>\n",
              "      <td>s2</td>\n",
              "      <td>Movie</td>\n",
              "      <td>07:19</td>\n",
              "      <td>Jorge Michel Grau</td>\n",
              "      <td>Demián Bichir, Héctor Bonilla, Oscar Serrano, ...</td>\n",
              "      <td>Mexico</td>\n",
              "      <td>December 23, 2016</td>\n",
              "      <td>TV-MA</td>\n",
              "      <td>93 min</td>\n",
              "      <td>Dramas, International Movies</td>\n",
              "      <td>After a devastating earthquake hits Mexico Cit...</td>\n",
              "      <td>2016-12-23</td>\n",
              "      <td>2016.0</td>\n",
              "    </tr>\n",
              "    <tr>\n",
              "      <th>2</th>\n",
              "      <td>s3</td>\n",
              "      <td>Movie</td>\n",
              "      <td>23:59</td>\n",
              "      <td>Gilbert Chan</td>\n",
              "      <td>Tedd Chan, Stella Chung, Henley Hii, Lawrence ...</td>\n",
              "      <td>Singapore</td>\n",
              "      <td>December 20, 2018</td>\n",
              "      <td>R</td>\n",
              "      <td>78 min</td>\n",
              "      <td>Horror Movies, International Movies</td>\n",
              "      <td>When an army recruit is found dead, his fellow...</td>\n",
              "      <td>2018-12-20</td>\n",
              "      <td>2018.0</td>\n",
              "    </tr>\n",
              "    <tr>\n",
              "      <th>3</th>\n",
              "      <td>s4</td>\n",
              "      <td>Movie</td>\n",
              "      <td>9</td>\n",
              "      <td>Shane Acker</td>\n",
              "      <td>Elijah Wood, John C. Reilly, Jennifer Connelly...</td>\n",
              "      <td>United States</td>\n",
              "      <td>November 16, 2017</td>\n",
              "      <td>PG-13</td>\n",
              "      <td>80 min</td>\n",
              "      <td>Action &amp; Adventure, Independent Movies, Sci-Fi...</td>\n",
              "      <td>In a postapocalyptic world, rag-doll robots hi...</td>\n",
              "      <td>2017-11-16</td>\n",
              "      <td>2017.0</td>\n",
              "    </tr>\n",
              "    <tr>\n",
              "      <th>4</th>\n",
              "      <td>s5</td>\n",
              "      <td>Movie</td>\n",
              "      <td>21</td>\n",
              "      <td>Robert Luketic</td>\n",
              "      <td>Jim Sturgess, Kevin Spacey, Kate Bosworth, Aar...</td>\n",
              "      <td>United States</td>\n",
              "      <td>January 1, 2020</td>\n",
              "      <td>PG-13</td>\n",
              "      <td>123 min</td>\n",
              "      <td>Dramas</td>\n",
              "      <td>A brilliant group of students become card-coun...</td>\n",
              "      <td>2020-01-01</td>\n",
              "      <td>2020.0</td>\n",
              "    </tr>\n",
              "  </tbody>\n",
              "</table>\n",
              "</div>"
            ],
            "text/plain": [
              "  Show_Id Category  ...       Date    Year\n",
              "0      s1  TV Show  ... 2020-08-14  2020.0\n",
              "1      s2    Movie  ... 2016-12-23  2016.0\n",
              "2      s3    Movie  ... 2018-12-20  2018.0\n",
              "3      s4    Movie  ... 2017-11-16  2017.0\n",
              "4      s5    Movie  ... 2020-01-01  2020.0\n",
              "\n",
              "[5 rows x 13 columns]"
            ]
          },
          "metadata": {},
          "execution_count": 186
        }
      ]
    },
    {
      "cell_type": "code",
      "metadata": {
        "id": "0DyVuC2ayN6I"
      },
      "source": [
        "new_data=data.dropna()"
      ],
      "execution_count": 197,
      "outputs": []
    },
    {
      "cell_type": "code",
      "metadata": {
        "colab": {
          "base_uri": "https://localhost:8080/",
          "height": 182
        },
        "id": "89xmq8ROvMFW",
        "outputId": "4e9e6e84-638d-4592-cd52-553b6df1dba1"
      },
      "source": [
        "new_data[new_data['Cast'].str.contains('Tom Cruise')]"
      ],
      "execution_count": 198,
      "outputs": [
        {
          "output_type": "execute_result",
          "data": {
            "text/html": [
              "<div>\n",
              "<style scoped>\n",
              "    .dataframe tbody tr th:only-of-type {\n",
              "        vertical-align: middle;\n",
              "    }\n",
              "\n",
              "    .dataframe tbody tr th {\n",
              "        vertical-align: top;\n",
              "    }\n",
              "\n",
              "    .dataframe thead th {\n",
              "        text-align: right;\n",
              "    }\n",
              "</style>\n",
              "<table border=\"1\" class=\"dataframe\">\n",
              "  <thead>\n",
              "    <tr style=\"text-align: right;\">\n",
              "      <th></th>\n",
              "      <th>Show_Id</th>\n",
              "      <th>Category</th>\n",
              "      <th>Title</th>\n",
              "      <th>Director</th>\n",
              "      <th>Cast</th>\n",
              "      <th>Country</th>\n",
              "      <th>Release_Date</th>\n",
              "      <th>Rating</th>\n",
              "      <th>Duration</th>\n",
              "      <th>Type</th>\n",
              "      <th>Description</th>\n",
              "      <th>Date</th>\n",
              "      <th>Year</th>\n",
              "    </tr>\n",
              "  </thead>\n",
              "  <tbody>\n",
              "    <tr>\n",
              "      <th>3860</th>\n",
              "      <td>s3861</td>\n",
              "      <td>Movie</td>\n",
              "      <td>Magnolia</td>\n",
              "      <td>Paul Thomas Anderson</td>\n",
              "      <td>Jeremy Blackman, Tom Cruise, Melinda Dillon, A...</td>\n",
              "      <td>United States</td>\n",
              "      <td>January 1, 2020</td>\n",
              "      <td>R</td>\n",
              "      <td>189 min</td>\n",
              "      <td>Dramas, Independent Movies</td>\n",
              "      <td>Through chance, human action, past history and...</td>\n",
              "      <td>2020-01-01</td>\n",
              "      <td>2020.0</td>\n",
              "    </tr>\n",
              "    <tr>\n",
              "      <th>5071</th>\n",
              "      <td>s5071</td>\n",
              "      <td>Movie</td>\n",
              "      <td>Rain Man</td>\n",
              "      <td>Barry Levinson</td>\n",
              "      <td>Dustin Hoffman, Tom Cruise, Valeria Golino, Ge...</td>\n",
              "      <td>United States</td>\n",
              "      <td>July 1, 2019</td>\n",
              "      <td>R</td>\n",
              "      <td>134 min</td>\n",
              "      <td>Classic Movies, Dramas</td>\n",
              "      <td>A fast-talking yuppie is forced to slow down w...</td>\n",
              "      <td>2019-07-01</td>\n",
              "      <td>2019.0</td>\n",
              "    </tr>\n",
              "  </tbody>\n",
              "</table>\n",
              "</div>"
            ],
            "text/plain": [
              "     Show_Id Category  ...       Date    Year\n",
              "3860   s3861    Movie  ... 2020-01-01  2020.0\n",
              "5071   s5071    Movie  ... 2019-07-01  2019.0\n",
              "\n",
              "[2 rows x 13 columns]"
            ]
          },
          "metadata": {},
          "execution_count": 198
        }
      ]
    },
    {
      "cell_type": "markdown",
      "metadata": {
        "id": "GwsI1Eu1zI6S"
      },
      "source": [
        "Q9. What are the different Rating defined by Netflix ?"
      ]
    },
    {
      "cell_type": "code",
      "metadata": {
        "colab": {
          "base_uri": "https://localhost:8080/"
        },
        "id": "UFSX6KVqzpuy",
        "outputId": "c8f180bd-f55e-43e4-b06f-c73e33d0c91e"
      },
      "source": [
        "data['Rating'].nunique()"
      ],
      "execution_count": 199,
      "outputs": [
        {
          "output_type": "execute_result",
          "data": {
            "text/plain": [
              "14"
            ]
          },
          "metadata": {},
          "execution_count": 199
        }
      ]
    },
    {
      "cell_type": "code",
      "metadata": {
        "colab": {
          "base_uri": "https://localhost:8080/"
        },
        "id": "czu9zv7_zxb0",
        "outputId": "085caaed-61c4-4ae9-88e8-b8757ddb27db"
      },
      "source": [
        "data['Rating'].unique()"
      ],
      "execution_count": 200,
      "outputs": [
        {
          "output_type": "execute_result",
          "data": {
            "text/plain": [
              "array(['TV-MA', 'R', 'PG-13', 'TV-14', 'TV-PG', 'NR', 'TV-G', 'TV-Y', nan,\n",
              "       'TV-Y7', 'PG', 'G', 'NC-17', 'TV-Y7-FV', 'UR'], dtype=object)"
            ]
          },
          "metadata": {},
          "execution_count": 200
        }
      ]
    },
    {
      "cell_type": "markdown",
      "metadata": {
        "id": "uyp8nfivz_24"
      },
      "source": [
        "Q9.1 How many Movies got  the 'TV-14' rating in Canada ?"
      ]
    },
    {
      "cell_type": "code",
      "metadata": {
        "colab": {
          "base_uri": "https://localhost:8080/",
          "height": 932
        },
        "id": "2nNRy7n00NYU",
        "outputId": "ba113cad-5727-45a0-dca6-93245494922f"
      },
      "source": [
        "data[(data['Category']=='Movie')&(data['Rating']=='TV-14') &(data['Country']=='Canada')]"
      ],
      "execution_count": 202,
      "outputs": [
        {
          "output_type": "execute_result",
          "data": {
            "text/html": [
              "<div>\n",
              "<style scoped>\n",
              "    .dataframe tbody tr th:only-of-type {\n",
              "        vertical-align: middle;\n",
              "    }\n",
              "\n",
              "    .dataframe tbody tr th {\n",
              "        vertical-align: top;\n",
              "    }\n",
              "\n",
              "    .dataframe thead th {\n",
              "        text-align: right;\n",
              "    }\n",
              "</style>\n",
              "<table border=\"1\" class=\"dataframe\">\n",
              "  <thead>\n",
              "    <tr style=\"text-align: right;\">\n",
              "      <th></th>\n",
              "      <th>Show_Id</th>\n",
              "      <th>Category</th>\n",
              "      <th>Title</th>\n",
              "      <th>Director</th>\n",
              "      <th>Cast</th>\n",
              "      <th>Country</th>\n",
              "      <th>Release_Date</th>\n",
              "      <th>Rating</th>\n",
              "      <th>Duration</th>\n",
              "      <th>Type</th>\n",
              "      <th>Description</th>\n",
              "      <th>Date</th>\n",
              "      <th>Year</th>\n",
              "    </tr>\n",
              "  </thead>\n",
              "  <tbody>\n",
              "    <tr>\n",
              "      <th>30</th>\n",
              "      <td>s31</td>\n",
              "      <td>Movie</td>\n",
              "      <td>#cats_the_mewvie</td>\n",
              "      <td>Michael Margolis</td>\n",
              "      <td>NaN</td>\n",
              "      <td>Canada</td>\n",
              "      <td>February 5, 2020</td>\n",
              "      <td>TV-14</td>\n",
              "      <td>90 min</td>\n",
              "      <td>Documentaries, International Movies</td>\n",
              "      <td>This pawesome documentary explores how our fel...</td>\n",
              "      <td>2020-02-05</td>\n",
              "      <td>2020.0</td>\n",
              "    </tr>\n",
              "    <tr>\n",
              "      <th>34</th>\n",
              "      <td>s35</td>\n",
              "      <td>Movie</td>\n",
              "      <td>#Roxy</td>\n",
              "      <td>Michael Kennedy</td>\n",
              "      <td>Jake Short, Sarah Fisher, Booboo Stewart, Dann...</td>\n",
              "      <td>Canada</td>\n",
              "      <td>April 10, 2019</td>\n",
              "      <td>TV-14</td>\n",
              "      <td>105 min</td>\n",
              "      <td>Comedies, Romantic Movies</td>\n",
              "      <td>A teenage hacker with a huge nose helps a cool...</td>\n",
              "      <td>2019-04-10</td>\n",
              "      <td>2019.0</td>\n",
              "    </tr>\n",
              "    <tr>\n",
              "      <th>608</th>\n",
              "      <td>s609</td>\n",
              "      <td>Movie</td>\n",
              "      <td>At First Light</td>\n",
              "      <td>Jason Stone</td>\n",
              "      <td>Stefanie Scott, Theodore Pellerin, Percy Hynes...</td>\n",
              "      <td>Canada</td>\n",
              "      <td>December 27, 2018</td>\n",
              "      <td>TV-14</td>\n",
              "      <td>91 min</td>\n",
              "      <td>Dramas, Sci-Fi &amp; Fantasy</td>\n",
              "      <td>After mysterious lights imbue her with extraor...</td>\n",
              "      <td>2018-12-27</td>\n",
              "      <td>2018.0</td>\n",
              "    </tr>\n",
              "    <tr>\n",
              "      <th>1506</th>\n",
              "      <td>s1507</td>\n",
              "      <td>Movie</td>\n",
              "      <td>Counterfeiting in Suburbia</td>\n",
              "      <td>Jason Bourque</td>\n",
              "      <td>Sarah Butler, Larissa Albuquerque, Kayla Walla...</td>\n",
              "      <td>Canada</td>\n",
              "      <td>July 1, 2018</td>\n",
              "      <td>TV-14</td>\n",
              "      <td>88 min</td>\n",
              "      <td>Dramas, Thrillers</td>\n",
              "      <td>Two teenagers print counterfeit money in their...</td>\n",
              "      <td>2018-07-01</td>\n",
              "      <td>2018.0</td>\n",
              "    </tr>\n",
              "    <tr>\n",
              "      <th>3713</th>\n",
              "      <td>s3714</td>\n",
              "      <td>Movie</td>\n",
              "      <td>Long Time Running</td>\n",
              "      <td>Jennifer Baichwal, Nicholas de Pencier</td>\n",
              "      <td>Gord Downie, Paul Langlois, Gord Sinclair, Rob...</td>\n",
              "      <td>Canada</td>\n",
              "      <td>November 12, 2017</td>\n",
              "      <td>TV-14</td>\n",
              "      <td>96 min</td>\n",
              "      <td>Documentaries, International Movies, Music &amp; M...</td>\n",
              "      <td>This documentary follows the 2016 tour of belo...</td>\n",
              "      <td>2017-11-12</td>\n",
              "      <td>2017.0</td>\n",
              "    </tr>\n",
              "    <tr>\n",
              "      <th>3956</th>\n",
              "      <td>s3957</td>\n",
              "      <td>Movie</td>\n",
              "      <td>Martin Matte: La vie, la mort...eh la la..!</td>\n",
              "      <td>Jean-François Blais</td>\n",
              "      <td>Martin Matte</td>\n",
              "      <td>Canada</td>\n",
              "      <td>October 14, 2019</td>\n",
              "      <td>TV-14</td>\n",
              "      <td>62 min</td>\n",
              "      <td>Stand-Up Comedy</td>\n",
              "      <td>Quebecois comedy star Martin Matte serves up e...</td>\n",
              "      <td>2019-10-14</td>\n",
              "      <td>2019.0</td>\n",
              "    </tr>\n",
              "    <tr>\n",
              "      <th>5336</th>\n",
              "      <td>s5336</td>\n",
              "      <td>Movie</td>\n",
              "      <td>Sadie's Last Days on Earth</td>\n",
              "      <td>Michael Seater</td>\n",
              "      <td>Morgan Taylor Campbell, Clark Backo, Ricardo H...</td>\n",
              "      <td>Canada</td>\n",
              "      <td>August 22, 2017</td>\n",
              "      <td>TV-14</td>\n",
              "      <td>94 min</td>\n",
              "      <td>Comedies, Sci-Fi &amp; Fantasy</td>\n",
              "      <td>High schooler Sadie Mitchell believes the worl...</td>\n",
              "      <td>2017-08-22</td>\n",
              "      <td>2017.0</td>\n",
              "    </tr>\n",
              "    <tr>\n",
              "      <th>5393</th>\n",
              "      <td>s5393</td>\n",
              "      <td>Movie</td>\n",
              "      <td>Sardaar ji</td>\n",
              "      <td>Rohit Jugraj</td>\n",
              "      <td>Diljit Dosanjh, Neeru Bajwa, Mandy Takhar, Jas...</td>\n",
              "      <td>Canada</td>\n",
              "      <td>December 1, 2017</td>\n",
              "      <td>TV-14</td>\n",
              "      <td>140 min</td>\n",
              "      <td>Comedies, International Movies, Music &amp; Musicals</td>\n",
              "      <td>When a palatial wedding venue turns out to be ...</td>\n",
              "      <td>2017-12-01</td>\n",
              "      <td>2017.0</td>\n",
              "    </tr>\n",
              "    <tr>\n",
              "      <th>6062</th>\n",
              "      <td>s6062</td>\n",
              "      <td>Movie</td>\n",
              "      <td>The Accountant of Auschwitz</td>\n",
              "      <td>Matthew Shoychet</td>\n",
              "      <td>NaN</td>\n",
              "      <td>Canada</td>\n",
              "      <td>July 1, 2019</td>\n",
              "      <td>TV-14</td>\n",
              "      <td>78 min</td>\n",
              "      <td>Documentaries, International Movies</td>\n",
              "      <td>Decades after WWII, a former SS officer stands...</td>\n",
              "      <td>2019-07-01</td>\n",
              "      <td>2019.0</td>\n",
              "    </tr>\n",
              "    <tr>\n",
              "      <th>7025</th>\n",
              "      <td>s7024</td>\n",
              "      <td>Movie</td>\n",
              "      <td>The Wrong Babysitter</td>\n",
              "      <td>George Mendeluk</td>\n",
              "      <td>Daphne Zuniga, Seann Gallagher, Lisa Marie Car...</td>\n",
              "      <td>Canada</td>\n",
              "      <td>June 18, 2019</td>\n",
              "      <td>TV-14</td>\n",
              "      <td>89 min</td>\n",
              "      <td>Thrillers</td>\n",
              "      <td>A widow searches for her missing teenage daugh...</td>\n",
              "      <td>2019-06-18</td>\n",
              "      <td>2019.0</td>\n",
              "    </tr>\n",
              "    <tr>\n",
              "      <th>7041</th>\n",
              "      <td>s7040</td>\n",
              "      <td>Movie</td>\n",
              "      <td>There's Something in the Water</td>\n",
              "      <td>Ellen Page, Ian Daniel</td>\n",
              "      <td>Ellen Page</td>\n",
              "      <td>Canada</td>\n",
              "      <td>March 27, 2020</td>\n",
              "      <td>TV-14</td>\n",
              "      <td>72 min</td>\n",
              "      <td>Documentaries, International Movies</td>\n",
              "      <td>This documentary spotlights the struggle of mi...</td>\n",
              "      <td>2020-03-27</td>\n",
              "      <td>2020.0</td>\n",
              "    </tr>\n",
              "  </tbody>\n",
              "</table>\n",
              "</div>"
            ],
            "text/plain": [
              "     Show_Id Category  ...       Date    Year\n",
              "30       s31    Movie  ... 2020-02-05  2020.0\n",
              "34       s35    Movie  ... 2019-04-10  2019.0\n",
              "608     s609    Movie  ... 2018-12-27  2018.0\n",
              "1506   s1507    Movie  ... 2018-07-01  2018.0\n",
              "3713   s3714    Movie  ... 2017-11-12  2017.0\n",
              "3956   s3957    Movie  ... 2019-10-14  2019.0\n",
              "5336   s5336    Movie  ... 2017-08-22  2017.0\n",
              "5393   s5393    Movie  ... 2017-12-01  2017.0\n",
              "6062   s6062    Movie  ... 2019-07-01  2019.0\n",
              "7025   s7024    Movie  ... 2019-06-18  2019.0\n",
              "7041   s7040    Movie  ... 2020-03-27  2020.0\n",
              "\n",
              "[11 rows x 13 columns]"
            ]
          },
          "metadata": {},
          "execution_count": 202
        }
      ]
    },
    {
      "cell_type": "markdown",
      "metadata": {
        "id": "JIJudVWD0wr4"
      },
      "source": [
        "Q9.2How many TV Show got the \"R\" rating , after year 2018? "
      ]
    },
    {
      "cell_type": "code",
      "metadata": {
        "id": "X2Y7laud2Q5r"
      },
      "source": [
        "data['Year']=data['Year'].astype(str).astype(float)"
      ],
      "execution_count": 207,
      "outputs": []
    },
    {
      "cell_type": "code",
      "metadata": {
        "colab": {
          "base_uri": "https://localhost:8080/",
          "height": 133
        },
        "id": "36KHw64a1Caj",
        "outputId": "cb79f1cc-a5f4-40b3-bb63-08bf430100ec"
      },
      "source": [
        "data[(data['Rating']=='R')&(data['Category']=='TV Show')&(data['Year']>2018)]"
      ],
      "execution_count": 221,
      "outputs": [
        {
          "output_type": "execute_result",
          "data": {
            "text/html": [
              "<div>\n",
              "<style scoped>\n",
              "    .dataframe tbody tr th:only-of-type {\n",
              "        vertical-align: middle;\n",
              "    }\n",
              "\n",
              "    .dataframe tbody tr th {\n",
              "        vertical-align: top;\n",
              "    }\n",
              "\n",
              "    .dataframe thead th {\n",
              "        text-align: right;\n",
              "    }\n",
              "</style>\n",
              "<table border=\"1\" class=\"dataframe\">\n",
              "  <thead>\n",
              "    <tr style=\"text-align: right;\">\n",
              "      <th></th>\n",
              "      <th>Show_Id</th>\n",
              "      <th>Category</th>\n",
              "      <th>Title</th>\n",
              "      <th>Director</th>\n",
              "      <th>Cast</th>\n",
              "      <th>Country</th>\n",
              "      <th>Release_Date</th>\n",
              "      <th>Rating</th>\n",
              "      <th>Duration</th>\n",
              "      <th>Type</th>\n",
              "      <th>Description</th>\n",
              "      <th>Date</th>\n",
              "      <th>Year</th>\n",
              "      <th>Minutes</th>\n",
              "      <th>Unit</th>\n",
              "    </tr>\n",
              "  </thead>\n",
              "  <tbody>\n",
              "    <tr>\n",
              "      <th>6437</th>\n",
              "      <td>s6436</td>\n",
              "      <td>TV Show</td>\n",
              "      <td>The Hateful Eight: Extended Version</td>\n",
              "      <td>Quentin Tarantino</td>\n",
              "      <td>Samuel L. Jackson, Kurt Russell, Jennifer Jaso...</td>\n",
              "      <td>NaN</td>\n",
              "      <td>April 25, 2019</td>\n",
              "      <td>R</td>\n",
              "      <td>1 Season</td>\n",
              "      <td>TV Shows</td>\n",
              "      <td>Trapped at a stagecoach stop as a storm rages ...</td>\n",
              "      <td>2019-04-25</td>\n",
              "      <td>2019.0</td>\n",
              "      <td>1</td>\n",
              "      <td>Season</td>\n",
              "    </tr>\n",
              "  </tbody>\n",
              "</table>\n",
              "</div>"
            ],
            "text/plain": [
              "     Show_Id Category  ... Minutes    Unit\n",
              "6437   s6436  TV Show  ...       1  Season\n",
              "\n",
              "[1 rows x 15 columns]"
            ]
          },
          "metadata": {},
          "execution_count": 221
        }
      ]
    },
    {
      "cell_type": "markdown",
      "metadata": {
        "id": "_ZAnsbwE3TG1"
      },
      "source": [
        "Q10. What is the maximum duration of a Movie/Show on Netfix ?"
      ]
    },
    {
      "cell_type": "code",
      "metadata": {
        "colab": {
          "base_uri": "https://localhost:8080/"
        },
        "id": "NkGpxsJv3eC8",
        "outputId": "9a847b51-b4bb-4f9e-9293-bdebf08ccb3c"
      },
      "source": [
        "data['Duration'].unique()"
      ],
      "execution_count": 222,
      "outputs": [
        {
          "output_type": "execute_result",
          "data": {
            "text/plain": [
              "array(['4 Seasons', '93 min', '78 min', '80 min', '123 min', '1 Season',\n",
              "       '95 min', '119 min', '118 min', '143 min', '103 min', '89 min',\n",
              "       '91 min', '149 min', '144 min', '124 min', '87 min', '110 min',\n",
              "       '128 min', '117 min', '100 min', '2 Seasons', '84 min', '99 min',\n",
              "       '90 min', '102 min', '104 min', '105 min', '56 min', '125 min',\n",
              "       '81 min', '97 min', '106 min', '107 min', '109 min', '44 min',\n",
              "       '75 min', '101 min', '3 Seasons', '37 min', '113 min', '114 min',\n",
              "       '130 min', '94 min', '140 min', '135 min', '82 min', '70 min',\n",
              "       '121 min', '92 min', '164 min', '53 min', '83 min', '116 min',\n",
              "       '86 min', '120 min', '96 min', '126 min', '129 min', '77 min',\n",
              "       '137 min', '148 min', '28 min', '122 min', '176 min', '85 min',\n",
              "       '22 min', '68 min', '111 min', '29 min', '142 min', '168 min',\n",
              "       '21 min', '59 min', '20 min', '98 min', '108 min', '76 min',\n",
              "       '26 min', '156 min', '30 min', '57 min', '150 min', '133 min',\n",
              "       '115 min', '154 min', '127 min', '146 min', '136 min', '88 min',\n",
              "       '131 min', '24 min', '112 min', '74 min', '63 min', '38 min',\n",
              "       '25 min', '174 min', '60 min', '153 min', '158 min', '151 min',\n",
              "       '162 min', '54 min', '51 min', '69 min', '64 min', '147 min',\n",
              "       '42 min', '79 min', '5 Seasons', '40 min', '45 min', '172 min',\n",
              "       '10 min', '163 min', '9 Seasons', '55 min', '72 min', '61 min',\n",
              "       '71 min', '160 min', '171 min', '48 min', '139 min', '157 min',\n",
              "       '15 min', '65 min', '134 min', '161 min', '62 min', '8 Seasons',\n",
              "       '186 min', '49 min', '73 min', '58 min', '165 min', '166 min',\n",
              "       '138 min', '159 min', '141 min', '132 min', '52 min', '67 min',\n",
              "       '34 min', '66 min', '312 min', '180 min', '47 min', '6 Seasons',\n",
              "       '155 min', '14 min', '177 min', '11 min', '9 min', '46 min',\n",
              "       '145 min', '11 Seasons', '7 Seasons', '13 Seasons', '8 min',\n",
              "       '12 min', '12 Seasons', '10 Seasons', '43 min', '50 min', '23 min',\n",
              "       '185 min', '200 min', '169 min', '27 min', '170 min', '196 min',\n",
              "       '33 min', '181 min', '204 min', '32 min', '35 min', '167 min',\n",
              "       '16 Seasons', '179 min', '193 min', '13 min', '214 min', '17 min',\n",
              "       '173 min', '192 min', '209 min', '187 min', '41 min', '182 min',\n",
              "       '224 min', '233 min', '189 min', '152 min', '19 min', '15 Seasons',\n",
              "       '208 min', '237 min', '31 min', '178 min', '230 min', '194 min',\n",
              "       '228 min', '195 min', '3 min', '16 min', '5 min', '18 min',\n",
              "       '205 min', '190 min', '36 min', '201 min', '253 min', '203 min',\n",
              "       '191 min'], dtype=object)"
            ]
          },
          "metadata": {},
          "execution_count": 222
        }
      ]
    },
    {
      "cell_type": "code",
      "metadata": {
        "id": "yKSjpJlr4hpb"
      },
      "source": [
        "data[['Minutes','Unit']]=data['Duration'].str.split(' ',expand=True)"
      ],
      "execution_count": 224,
      "outputs": []
    },
    {
      "cell_type": "code",
      "metadata": {
        "colab": {
          "base_uri": "https://localhost:8080/",
          "height": 424
        },
        "id": "2cBGGc0d5IlY",
        "outputId": "2bbddcb4-9b90-4b20-8144-d0598dd902a3"
      },
      "source": [
        "data[['Minutes','Unit']]"
      ],
      "execution_count": 216,
      "outputs": [
        {
          "output_type": "execute_result",
          "data": {
            "text/html": [
              "<div>\n",
              "<style scoped>\n",
              "    .dataframe tbody tr th:only-of-type {\n",
              "        vertical-align: middle;\n",
              "    }\n",
              "\n",
              "    .dataframe tbody tr th {\n",
              "        vertical-align: top;\n",
              "    }\n",
              "\n",
              "    .dataframe thead th {\n",
              "        text-align: right;\n",
              "    }\n",
              "</style>\n",
              "<table border=\"1\" class=\"dataframe\">\n",
              "  <thead>\n",
              "    <tr style=\"text-align: right;\">\n",
              "      <th></th>\n",
              "      <th>Minutes</th>\n",
              "      <th>Unit</th>\n",
              "    </tr>\n",
              "  </thead>\n",
              "  <tbody>\n",
              "    <tr>\n",
              "      <th>0</th>\n",
              "      <td>4</td>\n",
              "      <td>Seasons</td>\n",
              "    </tr>\n",
              "    <tr>\n",
              "      <th>1</th>\n",
              "      <td>93</td>\n",
              "      <td>min</td>\n",
              "    </tr>\n",
              "    <tr>\n",
              "      <th>2</th>\n",
              "      <td>78</td>\n",
              "      <td>min</td>\n",
              "    </tr>\n",
              "    <tr>\n",
              "      <th>3</th>\n",
              "      <td>80</td>\n",
              "      <td>min</td>\n",
              "    </tr>\n",
              "    <tr>\n",
              "      <th>4</th>\n",
              "      <td>123</td>\n",
              "      <td>min</td>\n",
              "    </tr>\n",
              "    <tr>\n",
              "      <th>...</th>\n",
              "      <td>...</td>\n",
              "      <td>...</td>\n",
              "    </tr>\n",
              "    <tr>\n",
              "      <th>7784</th>\n",
              "      <td>99</td>\n",
              "      <td>min</td>\n",
              "    </tr>\n",
              "    <tr>\n",
              "      <th>7785</th>\n",
              "      <td>111</td>\n",
              "      <td>min</td>\n",
              "    </tr>\n",
              "    <tr>\n",
              "      <th>7786</th>\n",
              "      <td>44</td>\n",
              "      <td>min</td>\n",
              "    </tr>\n",
              "    <tr>\n",
              "      <th>7787</th>\n",
              "      <td>1</td>\n",
              "      <td>Season</td>\n",
              "    </tr>\n",
              "    <tr>\n",
              "      <th>7788</th>\n",
              "      <td>90</td>\n",
              "      <td>min</td>\n",
              "    </tr>\n",
              "  </tbody>\n",
              "</table>\n",
              "<p>7789 rows × 2 columns</p>\n",
              "</div>"
            ],
            "text/plain": [
              "     Minutes     Unit\n",
              "0          4  Seasons\n",
              "1         93      min\n",
              "2         78      min\n",
              "3         80      min\n",
              "4        123      min\n",
              "...      ...      ...\n",
              "7784      99      min\n",
              "7785     111      min\n",
              "7786      44      min\n",
              "7787       1   Season\n",
              "7788      90      min\n",
              "\n",
              "[7789 rows x 2 columns]"
            ]
          },
          "metadata": {},
          "execution_count": 216
        }
      ]
    },
    {
      "cell_type": "code",
      "metadata": {
        "id": "BapdMvX16Q_b"
      },
      "source": [
        "data['Minutes']=data['Minutes'].astype(str).astype(float)"
      ],
      "execution_count": 226,
      "outputs": []
    },
    {
      "cell_type": "code",
      "metadata": {
        "colab": {
          "base_uri": "https://localhost:8080/"
        },
        "id": "8srLyz0O6ncz",
        "outputId": "2b44554c-e9f4-4f84-b200-af10e1c3bf3c"
      },
      "source": [
        "data['Minutes'].max()"
      ],
      "execution_count": 227,
      "outputs": [
        {
          "output_type": "execute_result",
          "data": {
            "text/plain": [
              "312.0"
            ]
          },
          "metadata": {},
          "execution_count": 227
        }
      ]
    },
    {
      "cell_type": "markdown",
      "metadata": {
        "id": "lMgmdE2a7PKk"
      },
      "source": [
        "Q11. Which individual country has the highest no. of TV Show ?"
      ]
    },
    {
      "cell_type": "code",
      "metadata": {
        "colab": {
          "base_uri": "https://localhost:8080/"
        },
        "id": "fQE9j4ho7f5D",
        "outputId": "880de143-55e7-4229-a830-cf10bce0735a"
      },
      "source": [
        "data[data['Category']=='TV Show']['Country'].value_counts()"
      ],
      "execution_count": 242,
      "outputs": [
        {
          "output_type": "execute_result",
          "data": {
            "text/plain": [
              "United States                          705\n",
              "United Kingdom                         204\n",
              "Japan                                  157\n",
              "South Korea                            147\n",
              "India                                   71\n",
              "                                      ... \n",
              "United States, Mexico, Spain, Malta      1\n",
              "Argentina, Spain                         1\n",
              "Spain, Cuba                              1\n",
              "Belgium, Netherlands                     1\n",
              "Taiwan, Malaysia                         1\n",
              "Name: Country, Length: 183, dtype: int64"
            ]
          },
          "metadata": {},
          "execution_count": 242
        }
      ]
    },
    {
      "cell_type": "markdown",
      "metadata": {
        "id": "xNv4QGGM9pT6"
      },
      "source": [
        "Q12. How can we sort the dataset by Year ?"
      ]
    },
    {
      "cell_type": "code",
      "metadata": {
        "colab": {
          "base_uri": "https://localhost:8080/",
          "height": 501
        },
        "id": "-uc52CA79ySx",
        "outputId": "54293ea6-52cd-419e-b56e-cc4cb3136cf5"
      },
      "source": [
        "data.sort_values(by='Year').head()"
      ],
      "execution_count": 243,
      "outputs": [
        {
          "output_type": "execute_result",
          "data": {
            "text/html": [
              "<div>\n",
              "<style scoped>\n",
              "    .dataframe tbody tr th:only-of-type {\n",
              "        vertical-align: middle;\n",
              "    }\n",
              "\n",
              "    .dataframe tbody tr th {\n",
              "        vertical-align: top;\n",
              "    }\n",
              "\n",
              "    .dataframe thead th {\n",
              "        text-align: right;\n",
              "    }\n",
              "</style>\n",
              "<table border=\"1\" class=\"dataframe\">\n",
              "  <thead>\n",
              "    <tr style=\"text-align: right;\">\n",
              "      <th></th>\n",
              "      <th>Show_Id</th>\n",
              "      <th>Category</th>\n",
              "      <th>Title</th>\n",
              "      <th>Director</th>\n",
              "      <th>Cast</th>\n",
              "      <th>Country</th>\n",
              "      <th>Release_Date</th>\n",
              "      <th>Rating</th>\n",
              "      <th>Duration</th>\n",
              "      <th>Type</th>\n",
              "      <th>Description</th>\n",
              "      <th>Date</th>\n",
              "      <th>Year</th>\n",
              "      <th>Minutes</th>\n",
              "      <th>Unit</th>\n",
              "    </tr>\n",
              "  </thead>\n",
              "  <tbody>\n",
              "    <tr>\n",
              "      <th>7115</th>\n",
              "      <td>s7114</td>\n",
              "      <td>Movie</td>\n",
              "      <td>To and From New York</td>\n",
              "      <td>Sorin Dan Mihalcescu</td>\n",
              "      <td>Barbara King, Shaana Diya, John Krisiukenas, Y...</td>\n",
              "      <td>United States</td>\n",
              "      <td>January 1, 2008</td>\n",
              "      <td>TV-MA</td>\n",
              "      <td>81 min</td>\n",
              "      <td>Dramas, Independent Movies, Thrillers</td>\n",
              "      <td>While covering a story in New York City, a Sea...</td>\n",
              "      <td>2008-01-01</td>\n",
              "      <td>2008.0</td>\n",
              "      <td>81.0</td>\n",
              "      <td>min</td>\n",
              "    </tr>\n",
              "    <tr>\n",
              "      <th>1765</th>\n",
              "      <td>s1766</td>\n",
              "      <td>TV Show</td>\n",
              "      <td>Dinner for Five</td>\n",
              "      <td>NaN</td>\n",
              "      <td>NaN</td>\n",
              "      <td>United States</td>\n",
              "      <td>February 4, 2008</td>\n",
              "      <td>TV-MA</td>\n",
              "      <td>1 Season</td>\n",
              "      <td>Stand-Up Comedy &amp; Talk Shows</td>\n",
              "      <td>In each episode, four celebrities join host Jo...</td>\n",
              "      <td>2008-02-04</td>\n",
              "      <td>2008.0</td>\n",
              "      <td>1.0</td>\n",
              "      <td>Season</td>\n",
              "    </tr>\n",
              "    <tr>\n",
              "      <th>5766</th>\n",
              "      <td>s5766</td>\n",
              "      <td>Movie</td>\n",
              "      <td>Splatter</td>\n",
              "      <td>Joe Dante</td>\n",
              "      <td>Corey Feldman, Tony Todd, Tara Leigh, Erin Way...</td>\n",
              "      <td>United States</td>\n",
              "      <td>November 18, 2009</td>\n",
              "      <td>TV-MA</td>\n",
              "      <td>29 min</td>\n",
              "      <td>Horror Movies</td>\n",
              "      <td>After committing suicide, a washed-up rocker r...</td>\n",
              "      <td>2009-11-18</td>\n",
              "      <td>2009.0</td>\n",
              "      <td>29.0</td>\n",
              "      <td>min</td>\n",
              "    </tr>\n",
              "    <tr>\n",
              "      <th>3248</th>\n",
              "      <td>s3249</td>\n",
              "      <td>Movie</td>\n",
              "      <td>Just Another Love Story</td>\n",
              "      <td>Ole Bornedal</td>\n",
              "      <td>Anders W. Berthelsen, Rebecka Hemse, Nikolaj L...</td>\n",
              "      <td>Denmark</td>\n",
              "      <td>May 5, 2009</td>\n",
              "      <td>TV-MA</td>\n",
              "      <td>104 min</td>\n",
              "      <td>Dramas, International Movies</td>\n",
              "      <td>When he causes a car accident that leaves a yo...</td>\n",
              "      <td>2009-05-05</td>\n",
              "      <td>2009.0</td>\n",
              "      <td>104.0</td>\n",
              "      <td>min</td>\n",
              "    </tr>\n",
              "    <tr>\n",
              "      <th>3840</th>\n",
              "      <td>s3841</td>\n",
              "      <td>Movie</td>\n",
              "      <td>Mad Ron's Prevues from Hell</td>\n",
              "      <td>Jim Monaco</td>\n",
              "      <td>Nick Pawlow, Jordu Schell, Jay Kushwara, Micha...</td>\n",
              "      <td>United States</td>\n",
              "      <td>November 1, 2010</td>\n",
              "      <td>NR</td>\n",
              "      <td>84 min</td>\n",
              "      <td>Cult Movies, Horror Movies</td>\n",
              "      <td>This collection cherry-picks trailers, forgott...</td>\n",
              "      <td>2010-11-01</td>\n",
              "      <td>2010.0</td>\n",
              "      <td>84.0</td>\n",
              "      <td>min</td>\n",
              "    </tr>\n",
              "  </tbody>\n",
              "</table>\n",
              "</div>"
            ],
            "text/plain": [
              "     Show_Id Category                        Title  ...    Year Minutes    Unit\n",
              "7115   s7114    Movie         To and From New York  ...  2008.0    81.0     min\n",
              "1765   s1766  TV Show              Dinner for Five  ...  2008.0     1.0  Season\n",
              "5766   s5766    Movie                     Splatter  ...  2009.0    29.0     min\n",
              "3248   s3249    Movie      Just Another Love Story  ...  2009.0   104.0     min\n",
              "3840   s3841    Movie  Mad Ron's Prevues from Hell  ...  2010.0    84.0     min\n",
              "\n",
              "[5 rows x 15 columns]"
            ]
          },
          "metadata": {},
          "execution_count": 243
        }
      ]
    }
  ]
}